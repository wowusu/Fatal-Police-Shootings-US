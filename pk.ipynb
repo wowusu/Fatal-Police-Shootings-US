{
 "cells": [
  {
   "cell_type": "markdown",
   "metadata": {},
   "source": [
    "# Investigation of The Washington Post's Police Killing 2015-20 Dataset\n",
    "\n",
    "### (Analysis by Will Owusu)"
   ]
  },
  {
   "cell_type": "markdown",
   "metadata": {},
   "source": [
    "In the wake of the recent murder of George Floyd; by a member of the Minneapolis Police Department, attention surrounding police brutality is at an all time high. \n",
    "\n",
    "In this investigation I am going to investigate trends over the last few years and provide a statistical and visual analysis of the killings committed by police.\n",
    "\n",
    "It is worth noting that any correllation or disproportional representation found in this analysis is not indicative of discrimination by the police. This report intends to identify the trends rather than explain them.\n",
    "\n",
    "For this report I have analysed the data collected by The Washington Post on fatal police shootings. I have also pulled in US census data by state to be used for state by state analysis at a later date.\n",
    "\n",
    "\n",
    "### Key Questions:\n",
    "\n",
    " - Which racial group are more likely to be killed by police?\n",
    " - Which gender is more likely to be killed by police?\n",
    " - Do the police kill minors and pensioners?\n",
    " - How does the rate of unarmed killings change with demographic?\n",
    " - Is one type of group more likely to be deemed mentally ill?"
   ]
  },
  {
   "cell_type": "code",
   "execution_count": 1,
   "metadata": {},
   "outputs": [],
   "source": [
    "import pandas as pd\n",
    "import numpy as np\n",
    "%matplotlib inline\n",
    "import matplotlib.pyplot as plt\n",
    "import seaborn as sns\n",
    "import statsmodels.api as sm\n",
    "from sklearn.linear_model import LogisticRegression\n",
    "from sklearn.metrics import confusion_matrix, precision_score, recall_score, accuracy_score\n",
    "from sklearn.model_selection import train_test_split\n",
    "np.random.seed(42)\n",
    "base_color = sns.color_palette()[0]"
   ]
  },
  {
   "cell_type": "markdown",
   "metadata": {},
   "source": [
    "### Gathering Data"
   ]
  },
  {
   "cell_type": "code",
   "execution_count": 2,
   "metadata": {},
   "outputs": [],
   "source": [
    "# https://github.com/washingtonpost/data-police-shootings\n",
    "df = pd.read_csv('https://raw.githubusercontent.com/washingtonpost/data-police-shootings/master/fatal-police-shootings-data.csv')"
   ]
  },
  {
   "cell_type": "code",
   "execution_count": 3,
   "metadata": {},
   "outputs": [],
   "source": [
    "# https://worldpopulationreview.com/states/states-by-race/\n",
    "df_state = pd.read_csv(r'C:\\Users\\willo\\Documents\\Udactiy Nano-degree\\Data Scientist\\Project 1 - Police\\state-population-by-race.csv')"
   ]
  },
  {
   "cell_type": "markdown",
   "metadata": {},
   "source": [
    "### Assessing Data"
   ]
  },
  {
   "cell_type": "code",
   "execution_count": 4,
   "metadata": {},
   "outputs": [
    {
     "data": {
      "text/plain": [
       "(51, 8)"
      ]
     },
     "execution_count": 4,
     "metadata": {},
     "output_type": "execute_result"
    }
   ],
   "source": [
    "df_state.shape"
   ]
  },
  {
   "cell_type": "code",
   "execution_count": 5,
   "metadata": {},
   "outputs": [
    {
     "data": {
      "text/plain": [
       "(5407, 14)"
      ]
     },
     "execution_count": 5,
     "metadata": {},
     "output_type": "execute_result"
    }
   ],
   "source": [
    "df.shape"
   ]
  },
  {
   "cell_type": "code",
   "execution_count": 6,
   "metadata": {},
   "outputs": [
    {
     "data": {
      "text/plain": [
       "Index(['id', 'name', 'date', 'manner_of_death', 'armed', 'age', 'gender',\n",
       "       'race', 'city', 'state', 'signs_of_mental_illness', 'threat_level',\n",
       "       'flee', 'body_camera'],\n",
       "      dtype='object')"
      ]
     },
     "execution_count": 6,
     "metadata": {},
     "output_type": "execute_result"
    }
   ],
   "source": [
    "df.columns"
   ]
  },
  {
   "cell_type": "code",
   "execution_count": 7,
   "metadata": {},
   "outputs": [
    {
     "name": "stdout",
     "output_type": "stream",
     "text": [
      "<class 'pandas.core.frame.DataFrame'>\n",
      "RangeIndex: 5407 entries, 0 to 5406\n",
      "Data columns (total 14 columns):\n",
      " #   Column                   Non-Null Count  Dtype  \n",
      "---  ------                   --------------  -----  \n",
      " 0   id                       5407 non-null   int64  \n",
      " 1   name                     5407 non-null   object \n",
      " 2   date                     5407 non-null   object \n",
      " 3   manner_of_death          5407 non-null   object \n",
      " 4   armed                    5180 non-null   object \n",
      " 5   age                      5170 non-null   float64\n",
      " 6   gender                   5405 non-null   object \n",
      " 7   race                     4884 non-null   object \n",
      " 8   city                     5407 non-null   object \n",
      " 9   state                    5407 non-null   object \n",
      " 10  signs_of_mental_illness  5407 non-null   bool   \n",
      " 11  threat_level             5407 non-null   object \n",
      " 12  flee                     5158 non-null   object \n",
      " 13  body_camera              5407 non-null   bool   \n",
      "dtypes: bool(2), float64(1), int64(1), object(10)\n",
      "memory usage: 517.6+ KB\n"
     ]
    }
   ],
   "source": [
    "df.info()"
   ]
  },
  {
   "cell_type": "markdown",
   "metadata": {},
   "source": [
    "There are a few cases of null values, however these should not greatly impact the analysis. In general these values will be ignored when drawing comparisons between groups. \n",
    "\n",
    "It is also worth changing datatypes where appropriate such as the Date from object to datetime. "
   ]
  },
  {
   "cell_type": "code",
   "execution_count": 8,
   "metadata": {
    "scrolled": false
   },
   "outputs": [
    {
     "data": {
      "text/html": [
       "<div>\n",
       "<style scoped>\n",
       "    .dataframe tbody tr th:only-of-type {\n",
       "        vertical-align: middle;\n",
       "    }\n",
       "\n",
       "    .dataframe tbody tr th {\n",
       "        vertical-align: top;\n",
       "    }\n",
       "\n",
       "    .dataframe thead th {\n",
       "        text-align: right;\n",
       "    }\n",
       "</style>\n",
       "<table border=\"1\" class=\"dataframe\">\n",
       "  <thead>\n",
       "    <tr style=\"text-align: right;\">\n",
       "      <th></th>\n",
       "      <th>State</th>\n",
       "      <th>WhitePerc</th>\n",
       "      <th>BlackPerc</th>\n",
       "      <th>NativePerc</th>\n",
       "      <th>AsianPerc</th>\n",
       "      <th>IslanderPerc</th>\n",
       "      <th>OtherRacePerc</th>\n",
       "      <th>TwoOrMoreRacesPerc</th>\n",
       "    </tr>\n",
       "  </thead>\n",
       "  <tbody>\n",
       "    <tr>\n",
       "      <th>0</th>\n",
       "      <td>Alabama</td>\n",
       "      <td>0.6819</td>\n",
       "      <td>0.2658</td>\n",
       "      <td>0.0053</td>\n",
       "      <td>0.0133</td>\n",
       "      <td>0.0004</td>\n",
       "      <td>0.0144</td>\n",
       "      <td>0.0188</td>\n",
       "    </tr>\n",
       "    <tr>\n",
       "      <th>1</th>\n",
       "      <td>Alaska</td>\n",
       "      <td>0.6484</td>\n",
       "      <td>0.0327</td>\n",
       "      <td>0.1444</td>\n",
       "      <td>0.0630</td>\n",
       "      <td>0.0120</td>\n",
       "      <td>0.0149</td>\n",
       "      <td>0.0846</td>\n",
       "    </tr>\n",
       "    <tr>\n",
       "      <th>2</th>\n",
       "      <td>Arizona</td>\n",
       "      <td>0.7722</td>\n",
       "      <td>0.0439</td>\n",
       "      <td>0.0446</td>\n",
       "      <td>0.0329</td>\n",
       "      <td>0.0020</td>\n",
       "      <td>0.0679</td>\n",
       "      <td>0.0364</td>\n",
       "    </tr>\n",
       "    <tr>\n",
       "      <th>3</th>\n",
       "      <td>Arkansas</td>\n",
       "      <td>0.7700</td>\n",
       "      <td>0.1541</td>\n",
       "      <td>0.0067</td>\n",
       "      <td>0.0147</td>\n",
       "      <td>0.0027</td>\n",
       "      <td>0.0264</td>\n",
       "      <td>0.0254</td>\n",
       "    </tr>\n",
       "    <tr>\n",
       "      <th>4</th>\n",
       "      <td>California</td>\n",
       "      <td>0.6010</td>\n",
       "      <td>0.0579</td>\n",
       "      <td>0.0076</td>\n",
       "      <td>0.1432</td>\n",
       "      <td>0.0039</td>\n",
       "      <td>0.1383</td>\n",
       "      <td>0.0481</td>\n",
       "    </tr>\n",
       "  </tbody>\n",
       "</table>\n",
       "</div>"
      ],
      "text/plain": [
       "        State  WhitePerc  BlackPerc  NativePerc  AsianPerc  IslanderPerc  \\\n",
       "0     Alabama     0.6819     0.2658      0.0053     0.0133        0.0004   \n",
       "1      Alaska     0.6484     0.0327      0.1444     0.0630        0.0120   \n",
       "2     Arizona     0.7722     0.0439      0.0446     0.0329        0.0020   \n",
       "3    Arkansas     0.7700     0.1541      0.0067     0.0147        0.0027   \n",
       "4  California     0.6010     0.0579      0.0076     0.1432        0.0039   \n",
       "\n",
       "   OtherRacePerc  TwoOrMoreRacesPerc  \n",
       "0         0.0144              0.0188  \n",
       "1         0.0149              0.0846  \n",
       "2         0.0679              0.0364  \n",
       "3         0.0264              0.0254  \n",
       "4         0.1383              0.0481  "
      ]
     },
     "execution_count": 8,
     "metadata": {},
     "output_type": "execute_result"
    }
   ],
   "source": [
    "df_state.head()"
   ]
  },
  {
   "cell_type": "code",
   "execution_count": 9,
   "metadata": {},
   "outputs": [
    {
     "data": {
      "text/html": [
       "<div>\n",
       "<style scoped>\n",
       "    .dataframe tbody tr th:only-of-type {\n",
       "        vertical-align: middle;\n",
       "    }\n",
       "\n",
       "    .dataframe tbody tr th {\n",
       "        vertical-align: top;\n",
       "    }\n",
       "\n",
       "    .dataframe thead th {\n",
       "        text-align: right;\n",
       "    }\n",
       "</style>\n",
       "<table border=\"1\" class=\"dataframe\">\n",
       "  <thead>\n",
       "    <tr style=\"text-align: right;\">\n",
       "      <th></th>\n",
       "      <th>id</th>\n",
       "      <th>name</th>\n",
       "      <th>date</th>\n",
       "      <th>manner_of_death</th>\n",
       "      <th>armed</th>\n",
       "      <th>age</th>\n",
       "      <th>gender</th>\n",
       "      <th>race</th>\n",
       "      <th>city</th>\n",
       "      <th>state</th>\n",
       "      <th>signs_of_mental_illness</th>\n",
       "      <th>threat_level</th>\n",
       "      <th>flee</th>\n",
       "      <th>body_camera</th>\n",
       "    </tr>\n",
       "  </thead>\n",
       "  <tbody>\n",
       "    <tr>\n",
       "      <th>2</th>\n",
       "      <td>5</td>\n",
       "      <td>John Paul Quintero</td>\n",
       "      <td>2015-01-03</td>\n",
       "      <td>shot and Tasered</td>\n",
       "      <td>unarmed</td>\n",
       "      <td>23.0</td>\n",
       "      <td>M</td>\n",
       "      <td>H</td>\n",
       "      <td>Wichita</td>\n",
       "      <td>KS</td>\n",
       "      <td>False</td>\n",
       "      <td>other</td>\n",
       "      <td>Not fleeing</td>\n",
       "      <td>False</td>\n",
       "    </tr>\n",
       "    <tr>\n",
       "      <th>8</th>\n",
       "      <td>16</td>\n",
       "      <td>Autumn Steele</td>\n",
       "      <td>2015-01-06</td>\n",
       "      <td>shot</td>\n",
       "      <td>unarmed</td>\n",
       "      <td>34.0</td>\n",
       "      <td>F</td>\n",
       "      <td>W</td>\n",
       "      <td>Burlington</td>\n",
       "      <td>IA</td>\n",
       "      <td>False</td>\n",
       "      <td>other</td>\n",
       "      <td>Not fleeing</td>\n",
       "      <td>True</td>\n",
       "    </tr>\n",
       "    <tr>\n",
       "      <th>17</th>\n",
       "      <td>36</td>\n",
       "      <td>Artago Damon Howard</td>\n",
       "      <td>2015-01-08</td>\n",
       "      <td>shot</td>\n",
       "      <td>unarmed</td>\n",
       "      <td>36.0</td>\n",
       "      <td>M</td>\n",
       "      <td>B</td>\n",
       "      <td>Strong</td>\n",
       "      <td>AR</td>\n",
       "      <td>False</td>\n",
       "      <td>attack</td>\n",
       "      <td>Not fleeing</td>\n",
       "      <td>False</td>\n",
       "    </tr>\n",
       "    <tr>\n",
       "      <th>62</th>\n",
       "      <td>352</td>\n",
       "      <td>Joshua Omar Garcia</td>\n",
       "      <td>2015-01-26</td>\n",
       "      <td>shot</td>\n",
       "      <td>unarmed</td>\n",
       "      <td>24.0</td>\n",
       "      <td>M</td>\n",
       "      <td>H</td>\n",
       "      <td>Tahoka</td>\n",
       "      <td>TX</td>\n",
       "      <td>False</td>\n",
       "      <td>other</td>\n",
       "      <td>Car</td>\n",
       "      <td>False</td>\n",
       "    </tr>\n",
       "    <tr>\n",
       "      <th>71</th>\n",
       "      <td>342</td>\n",
       "      <td>Ralph Willis</td>\n",
       "      <td>2015-01-29</td>\n",
       "      <td>shot</td>\n",
       "      <td>unarmed</td>\n",
       "      <td>42.0</td>\n",
       "      <td>M</td>\n",
       "      <td>W</td>\n",
       "      <td>Stillwater</td>\n",
       "      <td>OK</td>\n",
       "      <td>False</td>\n",
       "      <td>other</td>\n",
       "      <td>Foot</td>\n",
       "      <td>False</td>\n",
       "    </tr>\n",
       "    <tr>\n",
       "      <th>...</th>\n",
       "      <td>...</td>\n",
       "      <td>...</td>\n",
       "      <td>...</td>\n",
       "      <td>...</td>\n",
       "      <td>...</td>\n",
       "      <td>...</td>\n",
       "      <td>...</td>\n",
       "      <td>...</td>\n",
       "      <td>...</td>\n",
       "      <td>...</td>\n",
       "      <td>...</td>\n",
       "      <td>...</td>\n",
       "      <td>...</td>\n",
       "      <td>...</td>\n",
       "    </tr>\n",
       "    <tr>\n",
       "      <th>5258</th>\n",
       "      <td>5751</td>\n",
       "      <td>Michael Ramos</td>\n",
       "      <td>2020-04-24</td>\n",
       "      <td>shot</td>\n",
       "      <td>unarmed</td>\n",
       "      <td>42.0</td>\n",
       "      <td>M</td>\n",
       "      <td>H</td>\n",
       "      <td>Austin</td>\n",
       "      <td>TX</td>\n",
       "      <td>False</td>\n",
       "      <td>undetermined</td>\n",
       "      <td>Car</td>\n",
       "      <td>False</td>\n",
       "    </tr>\n",
       "    <tr>\n",
       "      <th>5276</th>\n",
       "      <td>5777</td>\n",
       "      <td>Nicholas Bils</td>\n",
       "      <td>2020-05-01</td>\n",
       "      <td>shot</td>\n",
       "      <td>unarmed</td>\n",
       "      <td>36.0</td>\n",
       "      <td>M</td>\n",
       "      <td>W</td>\n",
       "      <td>San Diego</td>\n",
       "      <td>CA</td>\n",
       "      <td>True</td>\n",
       "      <td>other</td>\n",
       "      <td>Foot</td>\n",
       "      <td>False</td>\n",
       "    </tr>\n",
       "    <tr>\n",
       "      <th>5277</th>\n",
       "      <td>5778</td>\n",
       "      <td>Shaun Lee Fuhr</td>\n",
       "      <td>2020-05-01</td>\n",
       "      <td>shot</td>\n",
       "      <td>unarmed</td>\n",
       "      <td>24.0</td>\n",
       "      <td>M</td>\n",
       "      <td>B</td>\n",
       "      <td>Seattle</td>\n",
       "      <td>WA</td>\n",
       "      <td>False</td>\n",
       "      <td>attack</td>\n",
       "      <td>Foot</td>\n",
       "      <td>True</td>\n",
       "    </tr>\n",
       "    <tr>\n",
       "      <th>5339</th>\n",
       "      <td>5824</td>\n",
       "      <td>Tyler Hays</td>\n",
       "      <td>2020-05-19</td>\n",
       "      <td>shot</td>\n",
       "      <td>unarmed</td>\n",
       "      <td>29.0</td>\n",
       "      <td>M</td>\n",
       "      <td>W</td>\n",
       "      <td>Sale Creek</td>\n",
       "      <td>TN</td>\n",
       "      <td>False</td>\n",
       "      <td>attack</td>\n",
       "      <td>Not fleeing</td>\n",
       "      <td>False</td>\n",
       "    </tr>\n",
       "    <tr>\n",
       "      <th>5346</th>\n",
       "      <td>5873</td>\n",
       "      <td>Maurice S. Gordon</td>\n",
       "      <td>2020-05-23</td>\n",
       "      <td>shot</td>\n",
       "      <td>unarmed</td>\n",
       "      <td>28.0</td>\n",
       "      <td>M</td>\n",
       "      <td>B</td>\n",
       "      <td>Bass River</td>\n",
       "      <td>NJ</td>\n",
       "      <td>False</td>\n",
       "      <td>other</td>\n",
       "      <td>Not fleeing</td>\n",
       "      <td>False</td>\n",
       "    </tr>\n",
       "  </tbody>\n",
       "</table>\n",
       "<p>352 rows × 14 columns</p>\n",
       "</div>"
      ],
      "text/plain": [
       "        id                 name        date   manner_of_death    armed   age  \\\n",
       "2        5   John Paul Quintero  2015-01-03  shot and Tasered  unarmed  23.0   \n",
       "8       16        Autumn Steele  2015-01-06              shot  unarmed  34.0   \n",
       "17      36  Artago Damon Howard  2015-01-08              shot  unarmed  36.0   \n",
       "62     352   Joshua Omar Garcia  2015-01-26              shot  unarmed  24.0   \n",
       "71     342         Ralph Willis  2015-01-29              shot  unarmed  42.0   \n",
       "...    ...                  ...         ...               ...      ...   ...   \n",
       "5258  5751        Michael Ramos  2020-04-24              shot  unarmed  42.0   \n",
       "5276  5777        Nicholas Bils  2020-05-01              shot  unarmed  36.0   \n",
       "5277  5778       Shaun Lee Fuhr  2020-05-01              shot  unarmed  24.0   \n",
       "5339  5824           Tyler Hays  2020-05-19              shot  unarmed  29.0   \n",
       "5346  5873    Maurice S. Gordon  2020-05-23              shot  unarmed  28.0   \n",
       "\n",
       "     gender race        city state  signs_of_mental_illness  threat_level  \\\n",
       "2         M    H     Wichita    KS                    False         other   \n",
       "8         F    W  Burlington    IA                    False         other   \n",
       "17        M    B      Strong    AR                    False        attack   \n",
       "62        M    H      Tahoka    TX                    False         other   \n",
       "71        M    W  Stillwater    OK                    False         other   \n",
       "...     ...  ...         ...   ...                      ...           ...   \n",
       "5258      M    H      Austin    TX                    False  undetermined   \n",
       "5276      M    W   San Diego    CA                     True         other   \n",
       "5277      M    B     Seattle    WA                    False        attack   \n",
       "5339      M    W  Sale Creek    TN                    False        attack   \n",
       "5346      M    B  Bass River    NJ                    False         other   \n",
       "\n",
       "             flee  body_camera  \n",
       "2     Not fleeing        False  \n",
       "8     Not fleeing         True  \n",
       "17    Not fleeing        False  \n",
       "62            Car        False  \n",
       "71           Foot        False  \n",
       "...           ...          ...  \n",
       "5258          Car        False  \n",
       "5276         Foot        False  \n",
       "5277         Foot         True  \n",
       "5339  Not fleeing        False  \n",
       "5346  Not fleeing        False  \n",
       "\n",
       "[352 rows x 14 columns]"
      ]
     },
     "execution_count": 9,
     "metadata": {},
     "output_type": "execute_result"
    }
   ],
   "source": [
    "df.query('armed == \"unarmed\"')"
   ]
  },
  {
   "cell_type": "code",
   "execution_count": null,
   "metadata": {
    "scrolled": false
   },
   "outputs": [],
   "source": []
  },
  {
   "cell_type": "code",
   "execution_count": 10,
   "metadata": {},
   "outputs": [],
   "source": [
    "df['date'] = pd.to_datetime(df['date'])\n",
    "df['year'] = pd.DatetimeIndex(df['date']).year"
   ]
  },
  {
   "cell_type": "code",
   "execution_count": 11,
   "metadata": {},
   "outputs": [
    {
     "data": {
      "text/html": [
       "<div>\n",
       "<style scoped>\n",
       "    .dataframe tbody tr th:only-of-type {\n",
       "        vertical-align: middle;\n",
       "    }\n",
       "\n",
       "    .dataframe tbody tr th {\n",
       "        vertical-align: top;\n",
       "    }\n",
       "\n",
       "    .dataframe thead th {\n",
       "        text-align: right;\n",
       "    }\n",
       "</style>\n",
       "<table border=\"1\" class=\"dataframe\">\n",
       "  <thead>\n",
       "    <tr style=\"text-align: right;\">\n",
       "      <th></th>\n",
       "      <th>id</th>\n",
       "      <th>name</th>\n",
       "      <th>date</th>\n",
       "      <th>manner_of_death</th>\n",
       "      <th>armed</th>\n",
       "      <th>age</th>\n",
       "      <th>gender</th>\n",
       "      <th>race</th>\n",
       "      <th>city</th>\n",
       "      <th>state</th>\n",
       "      <th>signs_of_mental_illness</th>\n",
       "      <th>threat_level</th>\n",
       "      <th>flee</th>\n",
       "      <th>body_camera</th>\n",
       "      <th>year</th>\n",
       "    </tr>\n",
       "  </thead>\n",
       "  <tbody>\n",
       "    <tr>\n",
       "      <th>4936</th>\n",
       "      <td>5403</td>\n",
       "      <td>Gerardo Antonio Conchas-Bustas</td>\n",
       "      <td>2020-01-01</td>\n",
       "      <td>shot</td>\n",
       "      <td>knife</td>\n",
       "      <td>20.0</td>\n",
       "      <td>M</td>\n",
       "      <td>O</td>\n",
       "      <td>Denver</td>\n",
       "      <td>CO</td>\n",
       "      <td>False</td>\n",
       "      <td>attack</td>\n",
       "      <td>Not fleeing</td>\n",
       "      <td>True</td>\n",
       "      <td>2020</td>\n",
       "    </tr>\n",
       "    <tr>\n",
       "      <th>4937</th>\n",
       "      <td>5342</td>\n",
       "      <td>Gabriel Strickland</td>\n",
       "      <td>2020-01-01</td>\n",
       "      <td>shot and Tasered</td>\n",
       "      <td>toy weapon</td>\n",
       "      <td>25.0</td>\n",
       "      <td>M</td>\n",
       "      <td>W</td>\n",
       "      <td>Grass Valley</td>\n",
       "      <td>CA</td>\n",
       "      <td>True</td>\n",
       "      <td>attack</td>\n",
       "      <td>Not fleeing</td>\n",
       "      <td>False</td>\n",
       "      <td>2020</td>\n",
       "    </tr>\n",
       "    <tr>\n",
       "      <th>4938</th>\n",
       "      <td>5344</td>\n",
       "      <td>Derrick A. Elseth</td>\n",
       "      <td>2020-01-01</td>\n",
       "      <td>shot</td>\n",
       "      <td>gun</td>\n",
       "      <td>24.0</td>\n",
       "      <td>M</td>\n",
       "      <td>W</td>\n",
       "      <td>Richmond County</td>\n",
       "      <td>VA</td>\n",
       "      <td>False</td>\n",
       "      <td>other</td>\n",
       "      <td>Not fleeing</td>\n",
       "      <td>False</td>\n",
       "      <td>2020</td>\n",
       "    </tr>\n",
       "    <tr>\n",
       "      <th>4939</th>\n",
       "      <td>5347</td>\n",
       "      <td>Teddy James Maverick Varner</td>\n",
       "      <td>2020-01-01</td>\n",
       "      <td>shot</td>\n",
       "      <td>gun</td>\n",
       "      <td>29.0</td>\n",
       "      <td>M</td>\n",
       "      <td>NaN</td>\n",
       "      <td>Central Point</td>\n",
       "      <td>OR</td>\n",
       "      <td>True</td>\n",
       "      <td>attack</td>\n",
       "      <td>Not fleeing</td>\n",
       "      <td>True</td>\n",
       "      <td>2020</td>\n",
       "    </tr>\n",
       "    <tr>\n",
       "      <th>4940</th>\n",
       "      <td>5405</td>\n",
       "      <td>Mariano Ocon</td>\n",
       "      <td>2020-01-02</td>\n",
       "      <td>shot</td>\n",
       "      <td>gun</td>\n",
       "      <td>31.0</td>\n",
       "      <td>M</td>\n",
       "      <td>H</td>\n",
       "      <td>Chicago</td>\n",
       "      <td>IL</td>\n",
       "      <td>False</td>\n",
       "      <td>attack</td>\n",
       "      <td>Foot</td>\n",
       "      <td>False</td>\n",
       "      <td>2020</td>\n",
       "    </tr>\n",
       "    <tr>\n",
       "      <th>...</th>\n",
       "      <td>...</td>\n",
       "      <td>...</td>\n",
       "      <td>...</td>\n",
       "      <td>...</td>\n",
       "      <td>...</td>\n",
       "      <td>...</td>\n",
       "      <td>...</td>\n",
       "      <td>...</td>\n",
       "      <td>...</td>\n",
       "      <td>...</td>\n",
       "      <td>...</td>\n",
       "      <td>...</td>\n",
       "      <td>...</td>\n",
       "      <td>...</td>\n",
       "      <td>...</td>\n",
       "    </tr>\n",
       "    <tr>\n",
       "      <th>5402</th>\n",
       "      <td>5911</td>\n",
       "      <td>Lewis Ruffin</td>\n",
       "      <td>2020-06-09</td>\n",
       "      <td>shot</td>\n",
       "      <td>gun</td>\n",
       "      <td>38.0</td>\n",
       "      <td>M</td>\n",
       "      <td>B</td>\n",
       "      <td>Orlando</td>\n",
       "      <td>FL</td>\n",
       "      <td>False</td>\n",
       "      <td>attack</td>\n",
       "      <td>NaN</td>\n",
       "      <td>False</td>\n",
       "      <td>2020</td>\n",
       "    </tr>\n",
       "    <tr>\n",
       "      <th>5403</th>\n",
       "      <td>5912</td>\n",
       "      <td>Jerry Bethel</td>\n",
       "      <td>2020-06-10</td>\n",
       "      <td>shot</td>\n",
       "      <td>gun</td>\n",
       "      <td>59.0</td>\n",
       "      <td>M</td>\n",
       "      <td>NaN</td>\n",
       "      <td>Weippe</td>\n",
       "      <td>ID</td>\n",
       "      <td>False</td>\n",
       "      <td>attack</td>\n",
       "      <td>NaN</td>\n",
       "      <td>False</td>\n",
       "      <td>2020</td>\n",
       "    </tr>\n",
       "    <tr>\n",
       "      <th>5404</th>\n",
       "      <td>5913</td>\n",
       "      <td>Gregorio Cruz Vanloo</td>\n",
       "      <td>2020-06-11</td>\n",
       "      <td>shot</td>\n",
       "      <td>gun</td>\n",
       "      <td>28.0</td>\n",
       "      <td>M</td>\n",
       "      <td>W</td>\n",
       "      <td>DeKalb County</td>\n",
       "      <td>TN</td>\n",
       "      <td>False</td>\n",
       "      <td>attack</td>\n",
       "      <td>Other</td>\n",
       "      <td>False</td>\n",
       "      <td>2020</td>\n",
       "    </tr>\n",
       "    <tr>\n",
       "      <th>5405</th>\n",
       "      <td>5914</td>\n",
       "      <td>Mason James Lira</td>\n",
       "      <td>2020-06-11</td>\n",
       "      <td>shot</td>\n",
       "      <td>gun</td>\n",
       "      <td>26.0</td>\n",
       "      <td>M</td>\n",
       "      <td>W</td>\n",
       "      <td>Paso Robles</td>\n",
       "      <td>CA</td>\n",
       "      <td>True</td>\n",
       "      <td>attack</td>\n",
       "      <td>Not fleeing</td>\n",
       "      <td>False</td>\n",
       "      <td>2020</td>\n",
       "    </tr>\n",
       "    <tr>\n",
       "      <th>5406</th>\n",
       "      <td>5915</td>\n",
       "      <td>Michael \"Blue\" Thomas</td>\n",
       "      <td>2020-06-11</td>\n",
       "      <td>shot</td>\n",
       "      <td>undetermined</td>\n",
       "      <td>62.0</td>\n",
       "      <td>M</td>\n",
       "      <td>B</td>\n",
       "      <td>Lancaster</td>\n",
       "      <td>CA</td>\n",
       "      <td>False</td>\n",
       "      <td>undetermined</td>\n",
       "      <td>Not fleeing</td>\n",
       "      <td>False</td>\n",
       "      <td>2020</td>\n",
       "    </tr>\n",
       "  </tbody>\n",
       "</table>\n",
       "<p>471 rows × 15 columns</p>\n",
       "</div>"
      ],
      "text/plain": [
       "        id                            name       date   manner_of_death  \\\n",
       "4936  5403  Gerardo Antonio Conchas-Bustas 2020-01-01              shot   \n",
       "4937  5342              Gabriel Strickland 2020-01-01  shot and Tasered   \n",
       "4938  5344               Derrick A. Elseth 2020-01-01              shot   \n",
       "4939  5347     Teddy James Maverick Varner 2020-01-01              shot   \n",
       "4940  5405                    Mariano Ocon 2020-01-02              shot   \n",
       "...    ...                             ...        ...               ...   \n",
       "5402  5911                    Lewis Ruffin 2020-06-09              shot   \n",
       "5403  5912                    Jerry Bethel 2020-06-10              shot   \n",
       "5404  5913            Gregorio Cruz Vanloo 2020-06-11              shot   \n",
       "5405  5914                Mason James Lira 2020-06-11              shot   \n",
       "5406  5915           Michael \"Blue\" Thomas 2020-06-11              shot   \n",
       "\n",
       "             armed   age gender race             city state  \\\n",
       "4936         knife  20.0      M    O           Denver    CO   \n",
       "4937    toy weapon  25.0      M    W     Grass Valley    CA   \n",
       "4938           gun  24.0      M    W  Richmond County    VA   \n",
       "4939           gun  29.0      M  NaN    Central Point    OR   \n",
       "4940           gun  31.0      M    H          Chicago    IL   \n",
       "...            ...   ...    ...  ...              ...   ...   \n",
       "5402           gun  38.0      M    B          Orlando    FL   \n",
       "5403           gun  59.0      M  NaN           Weippe    ID   \n",
       "5404           gun  28.0      M    W    DeKalb County    TN   \n",
       "5405           gun  26.0      M    W      Paso Robles    CA   \n",
       "5406  undetermined  62.0      M    B        Lancaster    CA   \n",
       "\n",
       "      signs_of_mental_illness  threat_level         flee  body_camera  year  \n",
       "4936                    False        attack  Not fleeing         True  2020  \n",
       "4937                     True        attack  Not fleeing        False  2020  \n",
       "4938                    False         other  Not fleeing        False  2020  \n",
       "4939                     True        attack  Not fleeing         True  2020  \n",
       "4940                    False        attack         Foot        False  2020  \n",
       "...                       ...           ...          ...          ...   ...  \n",
       "5402                    False        attack          NaN        False  2020  \n",
       "5403                    False        attack          NaN        False  2020  \n",
       "5404                    False        attack        Other        False  2020  \n",
       "5405                     True        attack  Not fleeing        False  2020  \n",
       "5406                    False  undetermined  Not fleeing        False  2020  \n",
       "\n",
       "[471 rows x 15 columns]"
      ]
     },
     "execution_count": 11,
     "metadata": {},
     "output_type": "execute_result"
    }
   ],
   "source": [
    "df.query('year == 2020')"
   ]
  },
  {
   "cell_type": "code",
   "execution_count": 12,
   "metadata": {
    "scrolled": true
   },
   "outputs": [
    {
     "data": {
      "text/html": [
       "<div>\n",
       "<style scoped>\n",
       "    .dataframe tbody tr th:only-of-type {\n",
       "        vertical-align: middle;\n",
       "    }\n",
       "\n",
       "    .dataframe tbody tr th {\n",
       "        vertical-align: top;\n",
       "    }\n",
       "\n",
       "    .dataframe thead th {\n",
       "        text-align: right;\n",
       "    }\n",
       "</style>\n",
       "<table border=\"1\" class=\"dataframe\">\n",
       "  <thead>\n",
       "    <tr style=\"text-align: right;\">\n",
       "      <th></th>\n",
       "      <th>id</th>\n",
       "      <th>name</th>\n",
       "      <th>date</th>\n",
       "      <th>manner_of_death</th>\n",
       "      <th>armed</th>\n",
       "      <th>age</th>\n",
       "      <th>gender</th>\n",
       "      <th>race</th>\n",
       "      <th>city</th>\n",
       "      <th>state</th>\n",
       "      <th>signs_of_mental_illness</th>\n",
       "      <th>threat_level</th>\n",
       "      <th>flee</th>\n",
       "      <th>body_camera</th>\n",
       "    </tr>\n",
       "    <tr>\n",
       "      <th>year</th>\n",
       "      <th></th>\n",
       "      <th></th>\n",
       "      <th></th>\n",
       "      <th></th>\n",
       "      <th></th>\n",
       "      <th></th>\n",
       "      <th></th>\n",
       "      <th></th>\n",
       "      <th></th>\n",
       "      <th></th>\n",
       "      <th></th>\n",
       "      <th></th>\n",
       "      <th></th>\n",
       "      <th></th>\n",
       "    </tr>\n",
       "  </thead>\n",
       "  <tbody>\n",
       "    <tr>\n",
       "      <th>2015</th>\n",
       "      <td>994</td>\n",
       "      <td>994</td>\n",
       "      <td>994</td>\n",
       "      <td>994</td>\n",
       "      <td>938</td>\n",
       "      <td>983</td>\n",
       "      <td>994</td>\n",
       "      <td>965</td>\n",
       "      <td>994</td>\n",
       "      <td>994</td>\n",
       "      <td>994</td>\n",
       "      <td>994</td>\n",
       "      <td>985</td>\n",
       "      <td>994</td>\n",
       "    </tr>\n",
       "    <tr>\n",
       "      <th>2016</th>\n",
       "      <td>962</td>\n",
       "      <td>962</td>\n",
       "      <td>962</td>\n",
       "      <td>962</td>\n",
       "      <td>899</td>\n",
       "      <td>937</td>\n",
       "      <td>962</td>\n",
       "      <td>904</td>\n",
       "      <td>962</td>\n",
       "      <td>962</td>\n",
       "      <td>962</td>\n",
       "      <td>962</td>\n",
       "      <td>945</td>\n",
       "      <td>962</td>\n",
       "    </tr>\n",
       "    <tr>\n",
       "      <th>2017</th>\n",
       "      <td>986</td>\n",
       "      <td>986</td>\n",
       "      <td>986</td>\n",
       "      <td>986</td>\n",
       "      <td>903</td>\n",
       "      <td>953</td>\n",
       "      <td>985</td>\n",
       "      <td>906</td>\n",
       "      <td>986</td>\n",
       "      <td>986</td>\n",
       "      <td>986</td>\n",
       "      <td>986</td>\n",
       "      <td>935</td>\n",
       "      <td>986</td>\n",
       "    </tr>\n",
       "    <tr>\n",
       "      <th>2018</th>\n",
       "      <td>991</td>\n",
       "      <td>991</td>\n",
       "      <td>991</td>\n",
       "      <td>991</td>\n",
       "      <td>966</td>\n",
       "      <td>929</td>\n",
       "      <td>991</td>\n",
       "      <td>888</td>\n",
       "      <td>991</td>\n",
       "      <td>991</td>\n",
       "      <td>991</td>\n",
       "      <td>991</td>\n",
       "      <td>939</td>\n",
       "      <td>991</td>\n",
       "    </tr>\n",
       "    <tr>\n",
       "      <th>2019</th>\n",
       "      <td>1003</td>\n",
       "      <td>1003</td>\n",
       "      <td>1003</td>\n",
       "      <td>1003</td>\n",
       "      <td>1003</td>\n",
       "      <td>934</td>\n",
       "      <td>1003</td>\n",
       "      <td>859</td>\n",
       "      <td>1003</td>\n",
       "      <td>1003</td>\n",
       "      <td>1003</td>\n",
       "      <td>1003</td>\n",
       "      <td>928</td>\n",
       "      <td>1003</td>\n",
       "    </tr>\n",
       "    <tr>\n",
       "      <th>2020</th>\n",
       "      <td>471</td>\n",
       "      <td>471</td>\n",
       "      <td>471</td>\n",
       "      <td>471</td>\n",
       "      <td>471</td>\n",
       "      <td>434</td>\n",
       "      <td>470</td>\n",
       "      <td>362</td>\n",
       "      <td>471</td>\n",
       "      <td>471</td>\n",
       "      <td>471</td>\n",
       "      <td>471</td>\n",
       "      <td>426</td>\n",
       "      <td>471</td>\n",
       "    </tr>\n",
       "  </tbody>\n",
       "</table>\n",
       "</div>"
      ],
      "text/plain": [
       "        id  name  date  manner_of_death  armed  age  gender  race  city  \\\n",
       "year                                                                      \n",
       "2015   994   994   994              994    938  983     994   965   994   \n",
       "2016   962   962   962              962    899  937     962   904   962   \n",
       "2017   986   986   986              986    903  953     985   906   986   \n",
       "2018   991   991   991              991    966  929     991   888   991   \n",
       "2019  1003  1003  1003             1003   1003  934    1003   859  1003   \n",
       "2020   471   471   471              471    471  434     470   362   471   \n",
       "\n",
       "      state  signs_of_mental_illness  threat_level  flee  body_camera  \n",
       "year                                                                   \n",
       "2015    994                      994           994   985          994  \n",
       "2016    962                      962           962   945          962  \n",
       "2017    986                      986           986   935          986  \n",
       "2018    991                      991           991   939          991  \n",
       "2019   1003                     1003          1003   928         1003  \n",
       "2020    471                      471           471   426          471  "
      ]
     },
     "execution_count": 12,
     "metadata": {},
     "output_type": "execute_result"
    }
   ],
   "source": [
    "df.groupby('year').count()"
   ]
  },
  {
   "cell_type": "code",
   "execution_count": 13,
   "metadata": {
    "scrolled": false
   },
   "outputs": [
    {
     "name": "stdout",
     "output_type": "stream",
     "text": [
      "<class 'pandas.core.frame.DataFrame'>\n",
      "RangeIndex: 51 entries, 0 to 50\n",
      "Data columns (total 8 columns):\n",
      " #   Column              Non-Null Count  Dtype  \n",
      "---  ------              --------------  -----  \n",
      " 0   State               51 non-null     object \n",
      " 1   WhitePerc           51 non-null     float64\n",
      " 2   BlackPerc           51 non-null     float64\n",
      " 3   NativePerc          51 non-null     float64\n",
      " 4   AsianPerc           51 non-null     float64\n",
      " 5   IslanderPerc        51 non-null     float64\n",
      " 6   OtherRacePerc       51 non-null     float64\n",
      " 7   TwoOrMoreRacesPerc  51 non-null     float64\n",
      "dtypes: float64(7), object(1)\n",
      "memory usage: 3.3+ KB\n"
     ]
    }
   ],
   "source": [
    "df_state.info()"
   ]
  },
  {
   "cell_type": "code",
   "execution_count": 14,
   "metadata": {},
   "outputs": [
    {
     "data": {
      "text/plain": [
       "0"
      ]
     },
     "execution_count": 14,
     "metadata": {},
     "output_type": "execute_result"
    }
   ],
   "source": [
    "np.sum(df.duplicated())"
   ]
  },
  {
   "cell_type": "markdown",
   "metadata": {},
   "source": []
  },
  {
   "cell_type": "code",
   "execution_count": 15,
   "metadata": {},
   "outputs": [
    {
     "data": {
      "text/plain": [
       "<matplotlib.axes._subplots.AxesSubplot at 0x1f73910b608>"
      ]
     },
     "execution_count": 15,
     "metadata": {},
     "output_type": "execute_result"
    },
    {
     "data": {
      "image/png": "[encoded data removed]",
      "text/plain": [
       "<Figure size 432x288 with 2 Axes>"
      ]
     },
     "metadata": {
      "needs_background": "light"
     },
     "output_type": "display_data"
    }
   ],
   "source": [
    "sns.heatmap(df.corr(), annot = True)"
   ]
  },
  {
   "cell_type": "markdown",
   "metadata": {},
   "source": [
    "No variables show significant correlation at first glance. "
   ]
  },
  {
   "cell_type": "code",
   "execution_count": 16,
   "metadata": {},
   "outputs": [
    {
     "data": {
      "text/plain": [
       "attack          3490\n",
       "other           1678\n",
       "undetermined     239\n",
       "Name: threat_level, dtype: int64"
      ]
     },
     "execution_count": 16,
     "metadata": {},
     "output_type": "execute_result"
    }
   ],
   "source": [
    "df.threat_level.value_counts()"
   ]
  },
  {
   "cell_type": "code",
   "execution_count": null,
   "metadata": {},
   "outputs": [],
   "source": []
  },
  {
   "cell_type": "code",
   "execution_count": 17,
   "metadata": {},
   "outputs": [],
   "source": [
    "us_state_abbrev = {'Alabama': 'AL', 'Alaska': 'AK', 'American Samoa': 'AS', 'Arizona': 'AZ', 'Arkansas': 'AR',\\\n",
    "                   'California': 'CA', 'Colorado': 'CO', 'Connecticut': 'CT', 'Delaware': 'DE', \\\n",
    "                   'District of Columbia': 'DC', 'Florida': 'FL', 'Georgia': 'GA', 'Guam': 'GU', 'Hawaii': 'HI',\\\n",
    "                   'Idaho': 'ID', 'Illinois': 'IL', 'Indiana': 'IN', 'Iowa': 'IA', 'Kansas': 'KS', 'Kentucky': 'KY',\\\n",
    "                   'Louisiana': 'LA', 'Maine': 'ME', 'Maryland': 'MD', 'Massachusetts': 'MA', 'Michigan': 'MI', \\\n",
    "                   'Minnesota': 'MN', 'Mississippi': 'MS', 'Missouri': 'MO', 'Montana': 'MT', 'Nebraska': 'NE', \\\n",
    "                   'Nevada': 'NV', 'New Hampshire': 'NH', 'New Jersey': 'NJ', 'New Mexico': 'NM', 'New York': 'NY',\\\n",
    "                   'North Carolina': 'NC', 'North Dakota': 'ND', 'Northern Mariana Islands':'MP', 'Ohio': 'OH',\\\n",
    "                   'Oklahoma': 'OK', 'Oregon': 'OR', 'Pennsylvania': 'PA', 'Puerto Rico': 'PR', 'Rhode Island': 'RI',\\\n",
    "                   'South Carolina': 'SC', 'South Dakota': 'SD', 'Tennessee': 'TN', 'Texas': 'TX', 'Utah': 'UT',\\\n",
    "                   'Vermont': 'VT', 'Virgin Islands': 'VI', 'Virginia': 'VA', 'Washington': 'WA', 'West Virginia': 'WV',\\\n",
    "                   'Wisconsin': 'WI', 'Wyoming': 'WY'}\n",
    "\n",
    "df_state['State'].replace(us_state_abbrev, inplace = True)"
   ]
  },
  {
   "cell_type": "code",
   "execution_count": 18,
   "metadata": {},
   "outputs": [
    {
     "data": {
      "text/html": [
       "<div>\n",
       "<style scoped>\n",
       "    .dataframe tbody tr th:only-of-type {\n",
       "        vertical-align: middle;\n",
       "    }\n",
       "\n",
       "    .dataframe tbody tr th {\n",
       "        vertical-align: top;\n",
       "    }\n",
       "\n",
       "    .dataframe thead th {\n",
       "        text-align: right;\n",
       "    }\n",
       "</style>\n",
       "<table border=\"1\" class=\"dataframe\">\n",
       "  <thead>\n",
       "    <tr style=\"text-align: right;\">\n",
       "      <th></th>\n",
       "      <th>State</th>\n",
       "      <th>WhitePerc</th>\n",
       "      <th>BlackPerc</th>\n",
       "      <th>NativePerc</th>\n",
       "      <th>AsianPerc</th>\n",
       "      <th>IslanderPerc</th>\n",
       "      <th>OtherRacePerc</th>\n",
       "      <th>TwoOrMoreRacesPerc</th>\n",
       "    </tr>\n",
       "  </thead>\n",
       "  <tbody>\n",
       "    <tr>\n",
       "      <th>0</th>\n",
       "      <td>AL</td>\n",
       "      <td>0.6819</td>\n",
       "      <td>0.2658</td>\n",
       "      <td>0.0053</td>\n",
       "      <td>0.0133</td>\n",
       "      <td>0.0004</td>\n",
       "      <td>0.0144</td>\n",
       "      <td>0.0188</td>\n",
       "    </tr>\n",
       "    <tr>\n",
       "      <th>1</th>\n",
       "      <td>AK</td>\n",
       "      <td>0.6484</td>\n",
       "      <td>0.0327</td>\n",
       "      <td>0.1444</td>\n",
       "      <td>0.0630</td>\n",
       "      <td>0.0120</td>\n",
       "      <td>0.0149</td>\n",
       "      <td>0.0846</td>\n",
       "    </tr>\n",
       "    <tr>\n",
       "      <th>2</th>\n",
       "      <td>AZ</td>\n",
       "      <td>0.7722</td>\n",
       "      <td>0.0439</td>\n",
       "      <td>0.0446</td>\n",
       "      <td>0.0329</td>\n",
       "      <td>0.0020</td>\n",
       "      <td>0.0679</td>\n",
       "      <td>0.0364</td>\n",
       "    </tr>\n",
       "    <tr>\n",
       "      <th>3</th>\n",
       "      <td>AR</td>\n",
       "      <td>0.7700</td>\n",
       "      <td>0.1541</td>\n",
       "      <td>0.0067</td>\n",
       "      <td>0.0147</td>\n",
       "      <td>0.0027</td>\n",
       "      <td>0.0264</td>\n",
       "      <td>0.0254</td>\n",
       "    </tr>\n",
       "    <tr>\n",
       "      <th>4</th>\n",
       "      <td>CA</td>\n",
       "      <td>0.6010</td>\n",
       "      <td>0.0579</td>\n",
       "      <td>0.0076</td>\n",
       "      <td>0.1432</td>\n",
       "      <td>0.0039</td>\n",
       "      <td>0.1383</td>\n",
       "      <td>0.0481</td>\n",
       "    </tr>\n",
       "  </tbody>\n",
       "</table>\n",
       "</div>"
      ],
      "text/plain": [
       "  State  WhitePerc  BlackPerc  NativePerc  AsianPerc  IslanderPerc  \\\n",
       "0    AL     0.6819     0.2658      0.0053     0.0133        0.0004   \n",
       "1    AK     0.6484     0.0327      0.1444     0.0630        0.0120   \n",
       "2    AZ     0.7722     0.0439      0.0446     0.0329        0.0020   \n",
       "3    AR     0.7700     0.1541      0.0067     0.0147        0.0027   \n",
       "4    CA     0.6010     0.0579      0.0076     0.1432        0.0039   \n",
       "\n",
       "   OtherRacePerc  TwoOrMoreRacesPerc  \n",
       "0         0.0144              0.0188  \n",
       "1         0.0149              0.0846  \n",
       "2         0.0679              0.0364  \n",
       "3         0.0264              0.0254  \n",
       "4         0.1383              0.0481  "
      ]
     },
     "execution_count": 18,
     "metadata": {},
     "output_type": "execute_result"
    }
   ],
   "source": [
    "df_state.head()"
   ]
  },
  {
   "cell_type": "code",
   "execution_count": 19,
   "metadata": {},
   "outputs": [
    {
     "data": {
      "text/plain": [
       "W    2471\n",
       "B    1294\n",
       "H     900\n",
       "A      93\n",
       "N      78\n",
       "O      48\n",
       "Name: race, dtype: int64"
      ]
     },
     "execution_count": 19,
     "metadata": {},
     "output_type": "execute_result"
    }
   ],
   "source": [
    "df.race.value_counts()"
   ]
  },
  {
   "cell_type": "code",
   "execution_count": 20,
   "metadata": {},
   "outputs": [],
   "source": [
    "race_dict = {'W': 'White', 'B': 'Black', 'A': 'Asian', 'N': 'Native American', 'H': 'Hispanic', 'O': 'Other', \\\n",
    "             'None': 'unknown'}\n",
    "df.race.replace(race_dict, inplace = True)"
   ]
  },
  {
   "cell_type": "code",
   "execution_count": 21,
   "metadata": {},
   "outputs": [
    {
     "data": {
      "text/plain": [
       "(0.2980769230769231,\n",
       " 0    0.2658\n",
       " Name: BlackPerc, dtype: float64)"
      ]
     },
     "execution_count": 21,
     "metadata": {},
     "output_type": "execute_result"
    }
   ],
   "source": [
    "# compares % shot that are black with black proportion in the population\n",
    "df.query('race == \"Black\" and state == \"AL\"').shape[0]/df.query('state == \"AL\"').\\\n",
    "shape[0], df_state.query('State == \"AL\"')['BlackPerc']"
   ]
  },
  {
   "cell_type": "code",
   "execution_count": 22,
   "metadata": {},
   "outputs": [
    {
     "data": {
      "text/html": [
       "<div>\n",
       "<style scoped>\n",
       "    .dataframe tbody tr th:only-of-type {\n",
       "        vertical-align: middle;\n",
       "    }\n",
       "\n",
       "    .dataframe tbody tr th {\n",
       "        vertical-align: top;\n",
       "    }\n",
       "\n",
       "    .dataframe thead th {\n",
       "        text-align: right;\n",
       "    }\n",
       "</style>\n",
       "<table border=\"1\" class=\"dataframe\">\n",
       "  <thead>\n",
       "    <tr style=\"text-align: right;\">\n",
       "      <th></th>\n",
       "      <th>id</th>\n",
       "      <th>name</th>\n",
       "      <th>date</th>\n",
       "      <th>manner_of_death</th>\n",
       "      <th>armed</th>\n",
       "      <th>age</th>\n",
       "      <th>gender</th>\n",
       "      <th>race</th>\n",
       "      <th>city</th>\n",
       "      <th>state</th>\n",
       "      <th>signs_of_mental_illness</th>\n",
       "      <th>threat_level</th>\n",
       "      <th>flee</th>\n",
       "      <th>body_camera</th>\n",
       "      <th>year</th>\n",
       "    </tr>\n",
       "  </thead>\n",
       "  <tbody>\n",
       "    <tr>\n",
       "      <th>0</th>\n",
       "      <td>3</td>\n",
       "      <td>Tim Elliot</td>\n",
       "      <td>2015-01-02</td>\n",
       "      <td>shot</td>\n",
       "      <td>gun</td>\n",
       "      <td>53.0</td>\n",
       "      <td>M</td>\n",
       "      <td>Asian</td>\n",
       "      <td>Shelton</td>\n",
       "      <td>WA</td>\n",
       "      <td>True</td>\n",
       "      <td>attack</td>\n",
       "      <td>Not fleeing</td>\n",
       "      <td>False</td>\n",
       "      <td>2015</td>\n",
       "    </tr>\n",
       "    <tr>\n",
       "      <th>1</th>\n",
       "      <td>4</td>\n",
       "      <td>Lewis Lee Lembke</td>\n",
       "      <td>2015-01-02</td>\n",
       "      <td>shot</td>\n",
       "      <td>gun</td>\n",
       "      <td>47.0</td>\n",
       "      <td>M</td>\n",
       "      <td>White</td>\n",
       "      <td>Aloha</td>\n",
       "      <td>OR</td>\n",
       "      <td>False</td>\n",
       "      <td>attack</td>\n",
       "      <td>Not fleeing</td>\n",
       "      <td>False</td>\n",
       "      <td>2015</td>\n",
       "    </tr>\n",
       "    <tr>\n",
       "      <th>2</th>\n",
       "      <td>5</td>\n",
       "      <td>John Paul Quintero</td>\n",
       "      <td>2015-01-03</td>\n",
       "      <td>shot and Tasered</td>\n",
       "      <td>unarmed</td>\n",
       "      <td>23.0</td>\n",
       "      <td>M</td>\n",
       "      <td>Hispanic</td>\n",
       "      <td>Wichita</td>\n",
       "      <td>KS</td>\n",
       "      <td>False</td>\n",
       "      <td>other</td>\n",
       "      <td>Not fleeing</td>\n",
       "      <td>False</td>\n",
       "      <td>2015</td>\n",
       "    </tr>\n",
       "    <tr>\n",
       "      <th>3</th>\n",
       "      <td>8</td>\n",
       "      <td>Matthew Hoffman</td>\n",
       "      <td>2015-01-04</td>\n",
       "      <td>shot</td>\n",
       "      <td>toy weapon</td>\n",
       "      <td>32.0</td>\n",
       "      <td>M</td>\n",
       "      <td>White</td>\n",
       "      <td>San Francisco</td>\n",
       "      <td>CA</td>\n",
       "      <td>True</td>\n",
       "      <td>attack</td>\n",
       "      <td>Not fleeing</td>\n",
       "      <td>False</td>\n",
       "      <td>2015</td>\n",
       "    </tr>\n",
       "    <tr>\n",
       "      <th>4</th>\n",
       "      <td>9</td>\n",
       "      <td>Michael Rodriguez</td>\n",
       "      <td>2015-01-04</td>\n",
       "      <td>shot</td>\n",
       "      <td>nail gun</td>\n",
       "      <td>39.0</td>\n",
       "      <td>M</td>\n",
       "      <td>Hispanic</td>\n",
       "      <td>Evans</td>\n",
       "      <td>CO</td>\n",
       "      <td>False</td>\n",
       "      <td>attack</td>\n",
       "      <td>Not fleeing</td>\n",
       "      <td>False</td>\n",
       "      <td>2015</td>\n",
       "    </tr>\n",
       "  </tbody>\n",
       "</table>\n",
       "</div>"
      ],
      "text/plain": [
       "   id                name       date   manner_of_death       armed   age  \\\n",
       "0   3          Tim Elliot 2015-01-02              shot         gun  53.0   \n",
       "1   4    Lewis Lee Lembke 2015-01-02              shot         gun  47.0   \n",
       "2   5  John Paul Quintero 2015-01-03  shot and Tasered     unarmed  23.0   \n",
       "3   8     Matthew Hoffman 2015-01-04              shot  toy weapon  32.0   \n",
       "4   9   Michael Rodriguez 2015-01-04              shot    nail gun  39.0   \n",
       "\n",
       "  gender      race           city state  signs_of_mental_illness threat_level  \\\n",
       "0      M     Asian        Shelton    WA                     True       attack   \n",
       "1      M     White          Aloha    OR                    False       attack   \n",
       "2      M  Hispanic        Wichita    KS                    False        other   \n",
       "3      M     White  San Francisco    CA                     True       attack   \n",
       "4      M  Hispanic          Evans    CO                    False       attack   \n",
       "\n",
       "          flee  body_camera  year  \n",
       "0  Not fleeing        False  2015  \n",
       "1  Not fleeing        False  2015  \n",
       "2  Not fleeing        False  2015  \n",
       "3  Not fleeing        False  2015  \n",
       "4  Not fleeing        False  2015  "
      ]
     },
     "execution_count": 22,
     "metadata": {},
     "output_type": "execute_result"
    }
   ],
   "source": [
    "df.head()\n",
    "\n"
   ]
  },
  {
   "cell_type": "code",
   "execution_count": 23,
   "metadata": {},
   "outputs": [],
   "source": [
    "df_dum = df.copy()"
   ]
  },
  {
   "cell_type": "code",
   "execution_count": 24,
   "metadata": {},
   "outputs": [],
   "source": [
    "# dummies for race\n",
    "df_dum[['Asian', 'Black', 'Hispanic', 'Native American', 'Other', 'White']] = pd.get_dummies(df_dum['race'])\n",
    "# dummies for gender\n",
    "df_dum[['Female', 'Male']] = pd.get_dummies(df_dum['gender'])\n",
    "# dummies for mental illness\n",
    "mental_ill = pd.get_dummies(df_dum['signs_of_mental_illness'])\n",
    "df_dum['mentally_ill'] = mental_ill[True]\n",
    "# dummies for body cam\n",
    "body_cam = pd.get_dummies(df_dum['body_camera'])\n",
    "df_dum['body_cam'] = body_cam[True]\n",
    "# dummies fo fleeing\n",
    "flee = pd.get_dummies(df_dum.flee)\n",
    "flee['Fleeing'] = (flee['Not fleeing'] * -1) + 1\n",
    "df_dum['Fleeing'] = flee['Fleeing']"
   ]
  },
  {
   "cell_type": "markdown",
   "metadata": {},
   "source": []
  },
  {
   "cell_type": "code",
   "execution_count": 25,
   "metadata": {},
   "outputs": [
    {
     "data": {
      "text/plain": [
       "attack          3490\n",
       "other           1678\n",
       "undetermined     239\n",
       "Name: threat_level, dtype: int64"
      ]
     },
     "execution_count": 25,
     "metadata": {},
     "output_type": "execute_result"
    }
   ],
   "source": [
    "df_dum.threat_level.value_counts()"
   ]
  },
  {
   "cell_type": "code",
   "execution_count": 26,
   "metadata": {},
   "outputs": [
    {
     "data": {
      "text/html": [
       "<div>\n",
       "<style scoped>\n",
       "    .dataframe tbody tr th:only-of-type {\n",
       "        vertical-align: middle;\n",
       "    }\n",
       "\n",
       "    .dataframe tbody tr th {\n",
       "        vertical-align: top;\n",
       "    }\n",
       "\n",
       "    .dataframe thead th {\n",
       "        text-align: right;\n",
       "    }\n",
       "</style>\n",
       "<table border=\"1\" class=\"dataframe\">\n",
       "  <thead>\n",
       "    <tr style=\"text-align: right;\">\n",
       "      <th></th>\n",
       "      <th>id</th>\n",
       "      <th>name</th>\n",
       "      <th>date</th>\n",
       "      <th>manner_of_death</th>\n",
       "      <th>armed</th>\n",
       "      <th>age</th>\n",
       "      <th>gender</th>\n",
       "      <th>race</th>\n",
       "      <th>city</th>\n",
       "      <th>state</th>\n",
       "      <th>...</th>\n",
       "      <th>Black</th>\n",
       "      <th>Hispanic</th>\n",
       "      <th>Native American</th>\n",
       "      <th>Other</th>\n",
       "      <th>White</th>\n",
       "      <th>Female</th>\n",
       "      <th>Male</th>\n",
       "      <th>mentally_ill</th>\n",
       "      <th>body_cam</th>\n",
       "      <th>Fleeing</th>\n",
       "    </tr>\n",
       "  </thead>\n",
       "  <tbody>\n",
       "    <tr>\n",
       "      <th>0</th>\n",
       "      <td>3</td>\n",
       "      <td>Tim Elliot</td>\n",
       "      <td>2015-01-02</td>\n",
       "      <td>shot</td>\n",
       "      <td>gun</td>\n",
       "      <td>53.0</td>\n",
       "      <td>M</td>\n",
       "      <td>Asian</td>\n",
       "      <td>Shelton</td>\n",
       "      <td>WA</td>\n",
       "      <td>...</td>\n",
       "      <td>0</td>\n",
       "      <td>0</td>\n",
       "      <td>0</td>\n",
       "      <td>0</td>\n",
       "      <td>0</td>\n",
       "      <td>0</td>\n",
       "      <td>1</td>\n",
       "      <td>1</td>\n",
       "      <td>0</td>\n",
       "      <td>0</td>\n",
       "    </tr>\n",
       "    <tr>\n",
       "      <th>1</th>\n",
       "      <td>4</td>\n",
       "      <td>Lewis Lee Lembke</td>\n",
       "      <td>2015-01-02</td>\n",
       "      <td>shot</td>\n",
       "      <td>gun</td>\n",
       "      <td>47.0</td>\n",
       "      <td>M</td>\n",
       "      <td>White</td>\n",
       "      <td>Aloha</td>\n",
       "      <td>OR</td>\n",
       "      <td>...</td>\n",
       "      <td>0</td>\n",
       "      <td>0</td>\n",
       "      <td>0</td>\n",
       "      <td>0</td>\n",
       "      <td>1</td>\n",
       "      <td>0</td>\n",
       "      <td>1</td>\n",
       "      <td>0</td>\n",
       "      <td>0</td>\n",
       "      <td>0</td>\n",
       "    </tr>\n",
       "    <tr>\n",
       "      <th>2</th>\n",
       "      <td>5</td>\n",
       "      <td>John Paul Quintero</td>\n",
       "      <td>2015-01-03</td>\n",
       "      <td>shot and Tasered</td>\n",
       "      <td>unarmed</td>\n",
       "      <td>23.0</td>\n",
       "      <td>M</td>\n",
       "      <td>Hispanic</td>\n",
       "      <td>Wichita</td>\n",
       "      <td>KS</td>\n",
       "      <td>...</td>\n",
       "      <td>0</td>\n",
       "      <td>1</td>\n",
       "      <td>0</td>\n",
       "      <td>0</td>\n",
       "      <td>0</td>\n",
       "      <td>0</td>\n",
       "      <td>1</td>\n",
       "      <td>0</td>\n",
       "      <td>0</td>\n",
       "      <td>0</td>\n",
       "    </tr>\n",
       "    <tr>\n",
       "      <th>3</th>\n",
       "      <td>8</td>\n",
       "      <td>Matthew Hoffman</td>\n",
       "      <td>2015-01-04</td>\n",
       "      <td>shot</td>\n",
       "      <td>toy weapon</td>\n",
       "      <td>32.0</td>\n",
       "      <td>M</td>\n",
       "      <td>White</td>\n",
       "      <td>San Francisco</td>\n",
       "      <td>CA</td>\n",
       "      <td>...</td>\n",
       "      <td>0</td>\n",
       "      <td>0</td>\n",
       "      <td>0</td>\n",
       "      <td>0</td>\n",
       "      <td>1</td>\n",
       "      <td>0</td>\n",
       "      <td>1</td>\n",
       "      <td>1</td>\n",
       "      <td>0</td>\n",
       "      <td>0</td>\n",
       "    </tr>\n",
       "    <tr>\n",
       "      <th>4</th>\n",
       "      <td>9</td>\n",
       "      <td>Michael Rodriguez</td>\n",
       "      <td>2015-01-04</td>\n",
       "      <td>shot</td>\n",
       "      <td>nail gun</td>\n",
       "      <td>39.0</td>\n",
       "      <td>M</td>\n",
       "      <td>Hispanic</td>\n",
       "      <td>Evans</td>\n",
       "      <td>CO</td>\n",
       "      <td>...</td>\n",
       "      <td>0</td>\n",
       "      <td>1</td>\n",
       "      <td>0</td>\n",
       "      <td>0</td>\n",
       "      <td>0</td>\n",
       "      <td>0</td>\n",
       "      <td>1</td>\n",
       "      <td>0</td>\n",
       "      <td>0</td>\n",
       "      <td>0</td>\n",
       "    </tr>\n",
       "  </tbody>\n",
       "</table>\n",
       "<p>5 rows × 26 columns</p>\n",
       "</div>"
      ],
      "text/plain": [
       "   id                name       date   manner_of_death       armed   age  \\\n",
       "0   3          Tim Elliot 2015-01-02              shot         gun  53.0   \n",
       "1   4    Lewis Lee Lembke 2015-01-02              shot         gun  47.0   \n",
       "2   5  John Paul Quintero 2015-01-03  shot and Tasered     unarmed  23.0   \n",
       "3   8     Matthew Hoffman 2015-01-04              shot  toy weapon  32.0   \n",
       "4   9   Michael Rodriguez 2015-01-04              shot    nail gun  39.0   \n",
       "\n",
       "  gender      race           city state  ...  Black Hispanic Native American  \\\n",
       "0      M     Asian        Shelton    WA  ...      0        0               0   \n",
       "1      M     White          Aloha    OR  ...      0        0               0   \n",
       "2      M  Hispanic        Wichita    KS  ...      0        1               0   \n",
       "3      M     White  San Francisco    CA  ...      0        0               0   \n",
       "4      M  Hispanic          Evans    CO  ...      0        1               0   \n",
       "\n",
       "   Other  White  Female  Male  mentally_ill  body_cam  Fleeing  \n",
       "0      0      0       0     1             1         0        0  \n",
       "1      0      1       0     1             0         0        0  \n",
       "2      0      0       0     1             0         0        0  \n",
       "3      0      1       0     1             1         0        0  \n",
       "4      0      0       0     1             0         0        0  \n",
       "\n",
       "[5 rows x 26 columns]"
      ]
     },
     "execution_count": 26,
     "metadata": {},
     "output_type": "execute_result"
    }
   ],
   "source": [
    "df_dum.head()"
   ]
  },
  {
   "cell_type": "code",
   "execution_count": 27,
   "metadata": {},
   "outputs": [],
   "source": [
    "# df_dum.drop(['gender', 'race', 'body_camera', 'signs_of_mental_illness'], axis = 1)"
   ]
  },
  {
   "cell_type": "markdown",
   "metadata": {},
   "source": [
    "## What age group are dying at the hands of police?"
   ]
  },
  {
   "cell_type": "markdown",
   "metadata": {},
   "source": [
    "As can be seen from below, in 2015 and 2017, the youngest victims were white males, shot by police at the age of **six years old**. The oldest of the deceased was 91. The median age is 35, and 50% of the deceased were between 27 and 46 years old."
   ]
  },
  {
   "cell_type": "code",
   "execution_count": 28,
   "metadata": {
    "scrolled": false
   },
   "outputs": [
    {
     "data": {
      "text/plain": [
       "(count    5170.000000\n",
       " mean       37.132882\n",
       " std        13.124091\n",
       " min         6.000000\n",
       " 25%        27.000000\n",
       " 50%        35.000000\n",
       " 75%        46.000000\n",
       " max        91.000000\n",
       " Name: age, dtype: float64,)"
      ]
     },
     "execution_count": 28,
     "metadata": {},
     "output_type": "execute_result"
    }
   ],
   "source": [
    "df.describe()['age'],"
   ]
  },
  {
   "cell_type": "code",
   "execution_count": 29,
   "metadata": {},
   "outputs": [
    {
     "data": {
      "text/html": [
       "<div>\n",
       "<style scoped>\n",
       "    .dataframe tbody tr th:only-of-type {\n",
       "        vertical-align: middle;\n",
       "    }\n",
       "\n",
       "    .dataframe tbody tr th {\n",
       "        vertical-align: top;\n",
       "    }\n",
       "\n",
       "    .dataframe thead th {\n",
       "        text-align: right;\n",
       "    }\n",
       "</style>\n",
       "<table border=\"1\" class=\"dataframe\">\n",
       "  <thead>\n",
       "    <tr style=\"text-align: right;\">\n",
       "      <th></th>\n",
       "      <th>id</th>\n",
       "      <th>name</th>\n",
       "      <th>date</th>\n",
       "      <th>manner_of_death</th>\n",
       "      <th>armed</th>\n",
       "      <th>age</th>\n",
       "      <th>gender</th>\n",
       "      <th>race</th>\n",
       "      <th>city</th>\n",
       "      <th>state</th>\n",
       "      <th>signs_of_mental_illness</th>\n",
       "      <th>threat_level</th>\n",
       "      <th>flee</th>\n",
       "      <th>body_camera</th>\n",
       "      <th>year</th>\n",
       "    </tr>\n",
       "  </thead>\n",
       "  <tbody>\n",
       "    <tr>\n",
       "      <th>833</th>\n",
       "      <td>980</td>\n",
       "      <td>Jeremy Mardis</td>\n",
       "      <td>2015-11-03</td>\n",
       "      <td>shot</td>\n",
       "      <td>unarmed</td>\n",
       "      <td>6.0</td>\n",
       "      <td>M</td>\n",
       "      <td>White</td>\n",
       "      <td>Marksville</td>\n",
       "      <td>LA</td>\n",
       "      <td>False</td>\n",
       "      <td>other</td>\n",
       "      <td>Car</td>\n",
       "      <td>True</td>\n",
       "      <td>2015</td>\n",
       "    </tr>\n",
       "    <tr>\n",
       "      <th>1017</th>\n",
       "      <td>1165</td>\n",
       "      <td>Ciara Meyer</td>\n",
       "      <td>2016-01-11</td>\n",
       "      <td>shot</td>\n",
       "      <td>unarmed</td>\n",
       "      <td>12.0</td>\n",
       "      <td>F</td>\n",
       "      <td>White</td>\n",
       "      <td>Penn Township</td>\n",
       "      <td>PA</td>\n",
       "      <td>False</td>\n",
       "      <td>other</td>\n",
       "      <td>Not fleeing</td>\n",
       "      <td>False</td>\n",
       "      <td>2016</td>\n",
       "    </tr>\n",
       "    <tr>\n",
       "      <th>1588</th>\n",
       "      <td>1776</td>\n",
       "      <td>Jesse James Romero</td>\n",
       "      <td>2016-08-09</td>\n",
       "      <td>shot</td>\n",
       "      <td>gun</td>\n",
       "      <td>14.0</td>\n",
       "      <td>M</td>\n",
       "      <td>Hispanic</td>\n",
       "      <td>Los Angeles</td>\n",
       "      <td>CA</td>\n",
       "      <td>False</td>\n",
       "      <td>attack</td>\n",
       "      <td>Foot</td>\n",
       "      <td>True</td>\n",
       "      <td>2016</td>\n",
       "    </tr>\n",
       "    <tr>\n",
       "      <th>1681</th>\n",
       "      <td>1883</td>\n",
       "      <td>Tyre King</td>\n",
       "      <td>2016-09-14</td>\n",
       "      <td>shot</td>\n",
       "      <td>toy weapon</td>\n",
       "      <td>13.0</td>\n",
       "      <td>M</td>\n",
       "      <td>Black</td>\n",
       "      <td>Columbus</td>\n",
       "      <td>OH</td>\n",
       "      <td>False</td>\n",
       "      <td>other</td>\n",
       "      <td>Foot</td>\n",
       "      <td>False</td>\n",
       "      <td>2016</td>\n",
       "    </tr>\n",
       "    <tr>\n",
       "      <th>2805</th>\n",
       "      <td>3117</td>\n",
       "      <td>Jason Ike Pero</td>\n",
       "      <td>2017-11-08</td>\n",
       "      <td>shot</td>\n",
       "      <td>knife</td>\n",
       "      <td>14.0</td>\n",
       "      <td>M</td>\n",
       "      <td>Native American</td>\n",
       "      <td>Odanah</td>\n",
       "      <td>WI</td>\n",
       "      <td>False</td>\n",
       "      <td>other</td>\n",
       "      <td>Not fleeing</td>\n",
       "      <td>False</td>\n",
       "      <td>2017</td>\n",
       "    </tr>\n",
       "    <tr>\n",
       "      <th>2908</th>\n",
       "      <td>3229</td>\n",
       "      <td>Kameron Prescott</td>\n",
       "      <td>2017-12-21</td>\n",
       "      <td>shot</td>\n",
       "      <td>unarmed</td>\n",
       "      <td>6.0</td>\n",
       "      <td>M</td>\n",
       "      <td>White</td>\n",
       "      <td>Schertz</td>\n",
       "      <td>TX</td>\n",
       "      <td>False</td>\n",
       "      <td>other</td>\n",
       "      <td>Not fleeing</td>\n",
       "      <td>False</td>\n",
       "      <td>2017</td>\n",
       "    </tr>\n",
       "    <tr>\n",
       "      <th>3985</th>\n",
       "      <td>4386</td>\n",
       "      <td>Antonio Arce</td>\n",
       "      <td>2019-01-15</td>\n",
       "      <td>shot</td>\n",
       "      <td>toy weapon</td>\n",
       "      <td>14.0</td>\n",
       "      <td>M</td>\n",
       "      <td>Hispanic</td>\n",
       "      <td>Tempe</td>\n",
       "      <td>AZ</td>\n",
       "      <td>False</td>\n",
       "      <td>other</td>\n",
       "      <td>Foot</td>\n",
       "      <td>True</td>\n",
       "      <td>2019</td>\n",
       "    </tr>\n",
       "  </tbody>\n",
       "</table>\n",
       "</div>"
      ],
      "text/plain": [
       "        id                name       date manner_of_death       armed   age  \\\n",
       "833    980       Jeremy Mardis 2015-11-03            shot     unarmed   6.0   \n",
       "1017  1165         Ciara Meyer 2016-01-11            shot     unarmed  12.0   \n",
       "1588  1776  Jesse James Romero 2016-08-09            shot         gun  14.0   \n",
       "1681  1883           Tyre King 2016-09-14            shot  toy weapon  13.0   \n",
       "2805  3117      Jason Ike Pero 2017-11-08            shot       knife  14.0   \n",
       "2908  3229    Kameron Prescott 2017-12-21            shot     unarmed   6.0   \n",
       "3985  4386        Antonio Arce 2019-01-15            shot  toy weapon  14.0   \n",
       "\n",
       "     gender             race           city state  signs_of_mental_illness  \\\n",
       "833       M            White     Marksville    LA                    False   \n",
       "1017      F            White  Penn Township    PA                    False   \n",
       "1588      M         Hispanic    Los Angeles    CA                    False   \n",
       "1681      M            Black       Columbus    OH                    False   \n",
       "2805      M  Native American         Odanah    WI                    False   \n",
       "2908      M            White        Schertz    TX                    False   \n",
       "3985      M         Hispanic          Tempe    AZ                    False   \n",
       "\n",
       "     threat_level         flee  body_camera  year  \n",
       "833         other          Car         True  2015  \n",
       "1017        other  Not fleeing        False  2016  \n",
       "1588       attack         Foot         True  2016  \n",
       "1681        other         Foot        False  2016  \n",
       "2805        other  Not fleeing        False  2017  \n",
       "2908        other  Not fleeing        False  2017  \n",
       "3985        other         Foot         True  2019  "
      ]
     },
     "execution_count": 29,
     "metadata": {},
     "output_type": "execute_result"
    }
   ],
   "source": [
    "df.query('age < 15')"
   ]
  },
  {
   "cell_type": "code",
   "execution_count": 30,
   "metadata": {
    "scrolled": true
   },
   "outputs": [
    {
     "data": {
      "text/plain": [
       "98"
      ]
     },
     "execution_count": 30,
     "metadata": {},
     "output_type": "execute_result"
    }
   ],
   "source": [
    "df.query('age < 18').shape[0]"
   ]
  },
  {
   "cell_type": "code",
   "execution_count": 31,
   "metadata": {},
   "outputs": [
    {
     "data": {
      "image/png": "[encoded data removed]",
      "text/plain": [
       "<Figure size 432x288 with 1 Axes>"
      ]
     },
     "metadata": {
      "needs_background": "light"
     },
     "output_type": "display_data"
    }
   ],
   "source": [
    "sns.distplot(df['age'])\n",
    "plt.ylabel('Proportion of deceased population')\n",
    "plt.xlim(5,95);"
   ]
  },
  {
   "cell_type": "markdown",
   "metadata": {},
   "source": [
    "## Racial factors on fatal police shootings"
   ]
  },
  {
   "cell_type": "code",
   "execution_count": 32,
   "metadata": {
    "scrolled": true
   },
   "outputs": [
    {
     "data": {
      "image/png": "[encoded data removed]",
      "text/plain": [
       "<Figure size 432x288 with 1 Axes>"
      ]
     },
     "metadata": {
      "needs_background": "light"
     },
     "output_type": "display_data"
    }
   ],
   "source": [
    "sns.countplot(data = df, x = 'race', color = base_color);\n",
    "# plt.title('Number of police shooting fatalities 2015 - June 2020', size = 15);"
   ]
  },
  {
   "cell_type": "markdown",
   "metadata": {},
   "source": [
    "Looking at killings by count, we can see that far more white people are killed by police than any other racial demographic. This, however, is misleading as whites represent a significant amount of the population. Further manipulation is going to be required in order to assess the data on a proportional basis. "
   ]
  },
  {
   "cell_type": "code",
   "execution_count": 33,
   "metadata": {
    "scrolled": true
   },
   "outputs": [
    {
     "data": {
      "text/plain": [
       "1294"
      ]
     },
     "execution_count": 33,
     "metadata": {},
     "output_type": "execute_result"
    }
   ],
   "source": [
    "df_dum.Black.sum()"
   ]
  },
  {
   "cell_type": "code",
   "execution_count": 34,
   "metadata": {},
   "outputs": [
    {
     "data": {
      "text/plain": [
       "[2471, 1294, 93, 78, 900, 48]"
      ]
     },
     "execution_count": 34,
     "metadata": {},
     "output_type": "execute_result"
    }
   ],
   "source": [
    "# get a list of the total deaths by race\n",
    "race = ['White','Black','Asian','Native American','Hispanic','Other']\n",
    "race_list = []\n",
    "for i in race:\n",
    "    total = df_dum[i].sum()\n",
    "    race_list.append(total)\n",
    "race_list"
   ]
  },
  {
   "cell_type": "code",
   "execution_count": 35,
   "metadata": {},
   "outputs": [
    {
     "data": {
      "text/plain": [
       "[145, 123, 7, 4, 63, 5]"
      ]
     },
     "execution_count": 35,
     "metadata": {},
     "output_type": "execute_result"
    }
   ],
   "source": [
    "# get a list of the total unarmed deaths by race\n",
    "unarmed_race_list = []\n",
    "for i in race:\n",
    "    unarmed_tot = df_dum.query('armed == \"unarmed\"')[i].sum()\n",
    "    unarmed_race_list.append(unarmed_tot)\n",
    "\n",
    "unarmed_race_list"
   ]
  },
  {
   "cell_type": "code",
   "execution_count": 36,
   "metadata": {
    "scrolled": true
   },
   "outputs": [
    {
     "data": {
      "text/html": [
       "<div>\n",
       "<style scoped>\n",
       "    .dataframe tbody tr th:only-of-type {\n",
       "        vertical-align: middle;\n",
       "    }\n",
       "\n",
       "    .dataframe tbody tr th {\n",
       "        vertical-align: top;\n",
       "    }\n",
       "\n",
       "    .dataframe thead th {\n",
       "        text-align: right;\n",
       "    }\n",
       "</style>\n",
       "<table border=\"1\" class=\"dataframe\">\n",
       "  <thead>\n",
       "    <tr style=\"text-align: right;\">\n",
       "      <th></th>\n",
       "      <th>White</th>\n",
       "      <th>Black</th>\n",
       "      <th>Asian</th>\n",
       "      <th>Native American</th>\n",
       "      <th>Hispanic</th>\n",
       "      <th>Other</th>\n",
       "    </tr>\n",
       "  </thead>\n",
       "  <tbody>\n",
       "    <tr>\n",
       "      <th>death_toll</th>\n",
       "      <td>2471</td>\n",
       "      <td>1294</td>\n",
       "      <td>93</td>\n",
       "      <td>78</td>\n",
       "      <td>900</td>\n",
       "      <td>48</td>\n",
       "    </tr>\n",
       "  </tbody>\n",
       "</table>\n",
       "</div>"
      ],
      "text/plain": [
       "            White  Black  Asian  Native American  Hispanic  Other\n",
       "death_toll   2471   1294     93               78       900     48"
      ]
     },
     "execution_count": 36,
     "metadata": {},
     "output_type": "execute_result"
    }
   ],
   "source": [
    "# convert the death toll into a dataframe\n",
    "death_toll = pd.DataFrame(dict(zip(race, race_list)), index = ['death_toll'])\n",
    "death_toll"
   ]
  },
  {
   "cell_type": "code",
   "execution_count": 37,
   "metadata": {},
   "outputs": [
    {
     "data": {
      "text/plain": [
       "(0.5059377559377559, 0.26494676494676495, 0.18427518427518427)"
      ]
     },
     "execution_count": 37,
     "metadata": {},
     "output_type": "execute_result"
    }
   ],
   "source": [
    "(2471)/(2471+1294+900+78+48+93), (1294)/(2471+1294+900+78+48+93), 900/(2471+1294+900+78+48+93)"
   ]
  },
  {
   "cell_type": "code",
   "execution_count": 38,
   "metadata": {},
   "outputs": [],
   "source": [
    "# convert the unarmed death toll into a dataframe\n",
    "unarmed_deaths = pd.DataFrame(dict(zip(race, unarmed_race_list)), index = ['unarmed_deaths'])\n",
    "unarmed_deaths = unarmed_deaths.transpose().reset_index()"
   ]
  },
  {
   "cell_type": "code",
   "execution_count": 39,
   "metadata": {},
   "outputs": [
    {
     "data": {
      "text/html": [
       "<div>\n",
       "<style scoped>\n",
       "    .dataframe tbody tr th:only-of-type {\n",
       "        vertical-align: middle;\n",
       "    }\n",
       "\n",
       "    .dataframe tbody tr th {\n",
       "        vertical-align: top;\n",
       "    }\n",
       "\n",
       "    .dataframe thead th {\n",
       "        text-align: right;\n",
       "    }\n",
       "</style>\n",
       "<table border=\"1\" class=\"dataframe\">\n",
       "  <thead>\n",
       "    <tr style=\"text-align: right;\">\n",
       "      <th></th>\n",
       "      <th>index</th>\n",
       "      <th>unarmed_deaths</th>\n",
       "    </tr>\n",
       "  </thead>\n",
       "  <tbody>\n",
       "    <tr>\n",
       "      <th>0</th>\n",
       "      <td>White</td>\n",
       "      <td>145</td>\n",
       "    </tr>\n",
       "    <tr>\n",
       "      <th>1</th>\n",
       "      <td>Black</td>\n",
       "      <td>123</td>\n",
       "    </tr>\n",
       "    <tr>\n",
       "      <th>2</th>\n",
       "      <td>Asian</td>\n",
       "      <td>7</td>\n",
       "    </tr>\n",
       "    <tr>\n",
       "      <th>3</th>\n",
       "      <td>Native American</td>\n",
       "      <td>4</td>\n",
       "    </tr>\n",
       "    <tr>\n",
       "      <th>4</th>\n",
       "      <td>Hispanic</td>\n",
       "      <td>63</td>\n",
       "    </tr>\n",
       "    <tr>\n",
       "      <th>5</th>\n",
       "      <td>Other</td>\n",
       "      <td>5</td>\n",
       "    </tr>\n",
       "  </tbody>\n",
       "</table>\n",
       "</div>"
      ],
      "text/plain": [
       "             index  unarmed_deaths\n",
       "0            White             145\n",
       "1            Black             123\n",
       "2            Asian               7\n",
       "3  Native American               4\n",
       "4         Hispanic              63\n",
       "5            Other               5"
      ]
     },
     "execution_count": 39,
     "metadata": {},
     "output_type": "execute_result"
    }
   ],
   "source": [
    "unarmed_deaths = unarmed_deaths.rename({'index': 'race'})\n",
    "unarmed_deaths"
   ]
  },
  {
   "cell_type": "code",
   "execution_count": 40,
   "metadata": {},
   "outputs": [
    {
     "data": {
      "text/html": [
       "<div>\n",
       "<style scoped>\n",
       "    .dataframe tbody tr th:only-of-type {\n",
       "        vertical-align: middle;\n",
       "    }\n",
       "\n",
       "    .dataframe tbody tr th {\n",
       "        vertical-align: top;\n",
       "    }\n",
       "\n",
       "    .dataframe thead th {\n",
       "        text-align: right;\n",
       "    }\n",
       "</style>\n",
       "<table border=\"1\" class=\"dataframe\">\n",
       "  <thead>\n",
       "    <tr style=\"text-align: right;\">\n",
       "      <th></th>\n",
       "      <th>White</th>\n",
       "      <th>Hispanic</th>\n",
       "      <th>Black</th>\n",
       "      <th>Asian</th>\n",
       "      <th>Native American</th>\n",
       "      <th>Other</th>\n",
       "      <th>Two or more races</th>\n",
       "    </tr>\n",
       "  </thead>\n",
       "  <tbody>\n",
       "    <tr>\n",
       "      <th>general popuation</th>\n",
       "      <td>60.4</td>\n",
       "      <td>18.3</td>\n",
       "      <td>13.4</td>\n",
       "      <td>5.9</td>\n",
       "      <td>1.3</td>\n",
       "      <td>0.2</td>\n",
       "      <td>2.7</td>\n",
       "    </tr>\n",
       "  </tbody>\n",
       "</table>\n",
       "</div>"
      ],
      "text/plain": [
       "                   White  Hispanic  Black  Asian  Native American  Other  \\\n",
       "general popuation   60.4      18.3   13.4    5.9              1.3    0.2   \n",
       "\n",
       "                   Two or more races  \n",
       "general popuation                2.7  "
      ]
     },
     "execution_count": 40,
     "metadata": {},
     "output_type": "execute_result"
    }
   ],
   "source": [
    "# race proportions per US 2019 census: https://www.census.gov/quickfacts/fact/table/US/PST045219\n",
    "race_dict = {'White': 60.4, 'Hispanic': 18.3, 'Black': 13.4, 'Asian': 5.9, 'Native American': 1.3, 'Other': 0.2, \\\n",
    "             'Two or more races': 2.7}\n",
    "\n",
    "df_race = pd.DataFrame(race_dict, index = ['general popuation'])\n",
    "df_race "
   ]
  },
  {
   "cell_type": "code",
   "execution_count": 41,
   "metadata": {},
   "outputs": [],
   "source": [
    "df_race.drop(['Two or more races'], axis = 1, inplace = True)"
   ]
  },
  {
   "cell_type": "code",
   "execution_count": 42,
   "metadata": {
    "scrolled": true
   },
   "outputs": [
    {
     "name": "stderr",
     "output_type": "stream",
     "text": [
      "C:\\Users\\willo\\anaconda3\\lib\\site-packages\\pandas\\core\\reshape\\merge.py:1097: UserWarning: You are merging on int and float columns where the float values are not equal to their int representation\n",
      "  UserWarning,\n"
     ]
    }
   ],
   "source": [
    "df_race = df_race.merge(death_toll, how = 'outer')"
   ]
  },
  {
   "cell_type": "code",
   "execution_count": 43,
   "metadata": {},
   "outputs": [],
   "source": [
    "# transpose matrix \n",
    "df_race = df_race.transpose()\n",
    "df_race.reset_index(inplace = True)\n",
    "df_race = df_race.rename(columns = {0: 'population_pct', 1: 'deaths', 'index': 'race'})"
   ]
  },
  {
   "cell_type": "code",
   "execution_count": 44,
   "metadata": {},
   "outputs": [],
   "source": [
    "df_race['death_pct'] = df_race['deaths']/df.shape[0]"
   ]
  },
  {
   "cell_type": "code",
   "execution_count": 45,
   "metadata": {},
   "outputs": [
    {
     "data": {
      "text/html": [
       "<div>\n",
       "<style scoped>\n",
       "    .dataframe tbody tr th:only-of-type {\n",
       "        vertical-align: middle;\n",
       "    }\n",
       "\n",
       "    .dataframe tbody tr th {\n",
       "        vertical-align: top;\n",
       "    }\n",
       "\n",
       "    .dataframe thead th {\n",
       "        text-align: right;\n",
       "    }\n",
       "</style>\n",
       "<table border=\"1\" class=\"dataframe\">\n",
       "  <thead>\n",
       "    <tr style=\"text-align: right;\">\n",
       "      <th></th>\n",
       "      <th>race</th>\n",
       "      <th>population_pct</th>\n",
       "      <th>deaths</th>\n",
       "      <th>death_pct</th>\n",
       "    </tr>\n",
       "  </thead>\n",
       "  <tbody>\n",
       "    <tr>\n",
       "      <th>0</th>\n",
       "      <td>White</td>\n",
       "      <td>60.4</td>\n",
       "      <td>2471.0</td>\n",
       "      <td>0.457000</td>\n",
       "    </tr>\n",
       "    <tr>\n",
       "      <th>1</th>\n",
       "      <td>Hispanic</td>\n",
       "      <td>18.3</td>\n",
       "      <td>900.0</td>\n",
       "      <td>0.166451</td>\n",
       "    </tr>\n",
       "    <tr>\n",
       "      <th>2</th>\n",
       "      <td>Black</td>\n",
       "      <td>13.4</td>\n",
       "      <td>1294.0</td>\n",
       "      <td>0.239319</td>\n",
       "    </tr>\n",
       "    <tr>\n",
       "      <th>3</th>\n",
       "      <td>Asian</td>\n",
       "      <td>5.9</td>\n",
       "      <td>93.0</td>\n",
       "      <td>0.017200</td>\n",
       "    </tr>\n",
       "    <tr>\n",
       "      <th>4</th>\n",
       "      <td>Native American</td>\n",
       "      <td>1.3</td>\n",
       "      <td>78.0</td>\n",
       "      <td>0.014426</td>\n",
       "    </tr>\n",
       "    <tr>\n",
       "      <th>5</th>\n",
       "      <td>Other</td>\n",
       "      <td>0.2</td>\n",
       "      <td>48.0</td>\n",
       "      <td>0.008877</td>\n",
       "    </tr>\n",
       "  </tbody>\n",
       "</table>\n",
       "</div>"
      ],
      "text/plain": [
       "              race  population_pct  deaths  death_pct\n",
       "0            White            60.4  2471.0   0.457000\n",
       "1         Hispanic            18.3   900.0   0.166451\n",
       "2            Black            13.4  1294.0   0.239319\n",
       "3            Asian             5.9    93.0   0.017200\n",
       "4  Native American             1.3    78.0   0.014426\n",
       "5            Other             0.2    48.0   0.008877"
      ]
     },
     "execution_count": 45,
     "metadata": {},
     "output_type": "execute_result"
    }
   ],
   "source": [
    "df_race"
   ]
  },
  {
   "cell_type": "code",
   "execution_count": 46,
   "metadata": {
    "scrolled": true
   },
   "outputs": [],
   "source": [
    "df_race['population_pct'] = df_race['population_pct']/100\n"
   ]
  },
  {
   "cell_type": "code",
   "execution_count": 47,
   "metadata": {},
   "outputs": [
    {
     "data": {
      "text/html": [
       "<div>\n",
       "<style scoped>\n",
       "    .dataframe tbody tr th:only-of-type {\n",
       "        vertical-align: middle;\n",
       "    }\n",
       "\n",
       "    .dataframe tbody tr th {\n",
       "        vertical-align: top;\n",
       "    }\n",
       "\n",
       "    .dataframe thead th {\n",
       "        text-align: right;\n",
       "    }\n",
       "</style>\n",
       "<table border=\"1\" class=\"dataframe\">\n",
       "  <thead>\n",
       "    <tr style=\"text-align: right;\">\n",
       "      <th></th>\n",
       "      <th>race</th>\n",
       "      <th>population_pct</th>\n",
       "      <th>deaths</th>\n",
       "      <th>death_pct</th>\n",
       "      <th>death_population_ratio</th>\n",
       "    </tr>\n",
       "  </thead>\n",
       "  <tbody>\n",
       "    <tr>\n",
       "      <th>0</th>\n",
       "      <td>White</td>\n",
       "      <td>0.604</td>\n",
       "      <td>2471.0</td>\n",
       "      <td>0.457000</td>\n",
       "      <td>0.756623</td>\n",
       "    </tr>\n",
       "    <tr>\n",
       "      <th>1</th>\n",
       "      <td>Hispanic</td>\n",
       "      <td>0.183</td>\n",
       "      <td>900.0</td>\n",
       "      <td>0.166451</td>\n",
       "      <td>0.909568</td>\n",
       "    </tr>\n",
       "    <tr>\n",
       "      <th>2</th>\n",
       "      <td>Black</td>\n",
       "      <td>0.134</td>\n",
       "      <td>1294.0</td>\n",
       "      <td>0.239319</td>\n",
       "      <td>1.785966</td>\n",
       "    </tr>\n",
       "    <tr>\n",
       "      <th>3</th>\n",
       "      <td>Asian</td>\n",
       "      <td>0.059</td>\n",
       "      <td>93.0</td>\n",
       "      <td>0.017200</td>\n",
       "      <td>0.291524</td>\n",
       "    </tr>\n",
       "    <tr>\n",
       "      <th>4</th>\n",
       "      <td>Native American</td>\n",
       "      <td>0.013</td>\n",
       "      <td>78.0</td>\n",
       "      <td>0.014426</td>\n",
       "      <td>1.109673</td>\n",
       "    </tr>\n",
       "    <tr>\n",
       "      <th>5</th>\n",
       "      <td>Other</td>\n",
       "      <td>0.002</td>\n",
       "      <td>48.0</td>\n",
       "      <td>0.008877</td>\n",
       "      <td>4.438691</td>\n",
       "    </tr>\n",
       "  </tbody>\n",
       "</table>\n",
       "</div>"
      ],
      "text/plain": [
       "              race  population_pct  deaths  death_pct  death_population_ratio\n",
       "0            White           0.604  2471.0   0.457000                0.756623\n",
       "1         Hispanic           0.183   900.0   0.166451                0.909568\n",
       "2            Black           0.134  1294.0   0.239319                1.785966\n",
       "3            Asian           0.059    93.0   0.017200                0.291524\n",
       "4  Native American           0.013    78.0   0.014426                1.109673\n",
       "5            Other           0.002    48.0   0.008877                4.438691"
      ]
     },
     "execution_count": 47,
     "metadata": {},
     "output_type": "execute_result"
    }
   ],
   "source": [
    "df_race['death_population_ratio'] = df_race.death_pct/ df_race.population_pct\n",
    "df_race"
   ]
  },
  {
   "cell_type": "code",
   "execution_count": 48,
   "metadata": {},
   "outputs": [],
   "source": [
    "df_race = df_race.merge(unarmed_deaths, left_on = 'race', right_on = 'index' )\n",
    "\n",
    "# df_race.drop(2, axis = 1, inplace = True)"
   ]
  },
  {
   "cell_type": "code",
   "execution_count": 49,
   "metadata": {},
   "outputs": [
    {
     "data": {
      "text/plain": [
       "Index(['race', 'population_pct', 'deaths', 'death_pct',\n",
       "       'death_population_ratio', 'index', 'unarmed_deaths'],\n",
       "      dtype='object')"
      ]
     },
     "execution_count": 49,
     "metadata": {},
     "output_type": "execute_result"
    }
   ],
   "source": [
    "df_race.columns"
   ]
  },
  {
   "cell_type": "code",
   "execution_count": 50,
   "metadata": {
    "scrolled": true
   },
   "outputs": [
    {
     "data": {
      "text/html": [
       "<div>\n",
       "<style scoped>\n",
       "    .dataframe tbody tr th:only-of-type {\n",
       "        vertical-align: middle;\n",
       "    }\n",
       "\n",
       "    .dataframe tbody tr th {\n",
       "        vertical-align: top;\n",
       "    }\n",
       "\n",
       "    .dataframe thead th {\n",
       "        text-align: right;\n",
       "    }\n",
       "</style>\n",
       "<table border=\"1\" class=\"dataframe\">\n",
       "  <thead>\n",
       "    <tr style=\"text-align: right;\">\n",
       "      <th></th>\n",
       "      <th>race</th>\n",
       "      <th>population_pct</th>\n",
       "      <th>deaths</th>\n",
       "      <th>death_pct</th>\n",
       "      <th>death_population_ratio</th>\n",
       "      <th>index</th>\n",
       "      <th>unarmed_deaths</th>\n",
       "      <th>unarmed_vs_total</th>\n",
       "    </tr>\n",
       "  </thead>\n",
       "  <tbody>\n",
       "    <tr>\n",
       "      <th>0</th>\n",
       "      <td>White</td>\n",
       "      <td>0.604</td>\n",
       "      <td>2471.0</td>\n",
       "      <td>0.457000</td>\n",
       "      <td>0.756623</td>\n",
       "      <td>White</td>\n",
       "      <td>145</td>\n",
       "      <td>0.058681</td>\n",
       "    </tr>\n",
       "    <tr>\n",
       "      <th>1</th>\n",
       "      <td>Hispanic</td>\n",
       "      <td>0.183</td>\n",
       "      <td>900.0</td>\n",
       "      <td>0.166451</td>\n",
       "      <td>0.909568</td>\n",
       "      <td>Hispanic</td>\n",
       "      <td>63</td>\n",
       "      <td>0.070000</td>\n",
       "    </tr>\n",
       "    <tr>\n",
       "      <th>2</th>\n",
       "      <td>Black</td>\n",
       "      <td>0.134</td>\n",
       "      <td>1294.0</td>\n",
       "      <td>0.239319</td>\n",
       "      <td>1.785966</td>\n",
       "      <td>Black</td>\n",
       "      <td>123</td>\n",
       "      <td>0.095054</td>\n",
       "    </tr>\n",
       "    <tr>\n",
       "      <th>3</th>\n",
       "      <td>Asian</td>\n",
       "      <td>0.059</td>\n",
       "      <td>93.0</td>\n",
       "      <td>0.017200</td>\n",
       "      <td>0.291524</td>\n",
       "      <td>Asian</td>\n",
       "      <td>7</td>\n",
       "      <td>0.075269</td>\n",
       "    </tr>\n",
       "    <tr>\n",
       "      <th>4</th>\n",
       "      <td>Native American</td>\n",
       "      <td>0.013</td>\n",
       "      <td>78.0</td>\n",
       "      <td>0.014426</td>\n",
       "      <td>1.109673</td>\n",
       "      <td>Native American</td>\n",
       "      <td>4</td>\n",
       "      <td>0.051282</td>\n",
       "    </tr>\n",
       "    <tr>\n",
       "      <th>5</th>\n",
       "      <td>Other</td>\n",
       "      <td>0.002</td>\n",
       "      <td>48.0</td>\n",
       "      <td>0.008877</td>\n",
       "      <td>4.438691</td>\n",
       "      <td>Other</td>\n",
       "      <td>5</td>\n",
       "      <td>0.104167</td>\n",
       "    </tr>\n",
       "  </tbody>\n",
       "</table>\n",
       "</div>"
      ],
      "text/plain": [
       "              race  population_pct  deaths  death_pct  death_population_ratio  \\\n",
       "0            White           0.604  2471.0   0.457000                0.756623   \n",
       "1         Hispanic           0.183   900.0   0.166451                0.909568   \n",
       "2            Black           0.134  1294.0   0.239319                1.785966   \n",
       "3            Asian           0.059    93.0   0.017200                0.291524   \n",
       "4  Native American           0.013    78.0   0.014426                1.109673   \n",
       "5            Other           0.002    48.0   0.008877                4.438691   \n",
       "\n",
       "             index  unarmed_deaths  unarmed_vs_total  \n",
       "0            White             145          0.058681  \n",
       "1         Hispanic              63          0.070000  \n",
       "2            Black             123          0.095054  \n",
       "3            Asian               7          0.075269  \n",
       "4  Native American               4          0.051282  \n",
       "5            Other               5          0.104167  "
      ]
     },
     "execution_count": 50,
     "metadata": {},
     "output_type": "execute_result"
    }
   ],
   "source": [
    "df_race['unarmed_vs_total'] = df_race.unarmed_deaths / df_race.deaths\n",
    "df_race"
   ]
  },
  {
   "cell_type": "code",
   "execution_count": 51,
   "metadata": {},
   "outputs": [
    {
     "data": {
      "text/plain": [
       "Index(['race', 'population_pct', 'deaths', 'death_pct',\n",
       "       'death_population_ratio', 'index', 'unarmed_deaths',\n",
       "       'unarmed_vs_total'],\n",
       "      dtype='object')"
      ]
     },
     "execution_count": 51,
     "metadata": {},
     "output_type": "execute_result"
    }
   ],
   "source": [
    "df_race.columns"
   ]
  },
  {
   "cell_type": "code",
   "execution_count": 52,
   "metadata": {},
   "outputs": [],
   "source": [
    "# remove other column to avoid ambiguity\n",
    "df_race.drop(['index'], axis = 1, inplace = True)"
   ]
  },
  {
   "cell_type": "code",
   "execution_count": 53,
   "metadata": {},
   "outputs": [],
   "source": [
    "df_race.drop([5], inplace = True)"
   ]
  },
  {
   "cell_type": "code",
   "execution_count": 54,
   "metadata": {},
   "outputs": [
    {
     "data": {
      "image/png": "[encoded data removed]",
      "text/plain": [
       "<Figure size 432x288 with 1 Axes>"
      ]
     },
     "metadata": {
      "needs_background": "light"
     },
     "output_type": "display_data"
    }
   ],
   "source": [
    "sns.barplot(data = df_race, y = 'death_population_ratio', x = 'race', color = base_color);\n",
    "# plt.title('proportion of deaths relative to proportion of general population', size = 15);"
   ]
  },
  {
   "cell_type": "markdown",
   "metadata": {},
   "source": [
    "The barchart above shows that when population is accounted for, black people are being killed at the highest rate, followed by native americans. Asians are being killed at the lowest rate."
   ]
  },
  {
   "cell_type": "code",
   "execution_count": 55,
   "metadata": {},
   "outputs": [
    {
     "data": {
      "image/png": "[encoded data removed]",
      "text/plain": [
       "<Figure size 432x288 with 1 Axes>"
      ]
     },
     "metadata": {
      "needs_background": "light"
     },
     "output_type": "display_data"
    }
   ],
   "source": [
    "sns.barplot(data = df_race, y = 'unarmed_vs_total', x = 'race', color = base_color);\n",
    "# plt.title('Proportion of deaths where the deceased was unarmed');"
   ]
  },
  {
   "cell_type": "markdown",
   "metadata": {},
   "source": [
    "The chart above shows that the Black population are the least likely to be armed when they are killed. Although, this is still only around 9%, when compared to about 8% for Asians and 7% for Hispanics"
   ]
  },
  {
   "cell_type": "code",
   "execution_count": 56,
   "metadata": {},
   "outputs": [
    {
     "data": {
      "text/plain": [
       "25"
      ]
     },
     "execution_count": 56,
     "metadata": {},
     "output_type": "execute_result"
    }
   ],
   "source": [
    "df.query('race == \"White\" and year == 2019 and armed == \"unarmed\"').shape[0]"
   ]
  },
  {
   "cell_type": "code",
   "execution_count": 57,
   "metadata": {},
   "outputs": [
    {
     "data": {
      "text/plain": [
       "405"
      ]
     },
     "execution_count": 57,
     "metadata": {},
     "output_type": "execute_result"
    }
   ],
   "source": [
    "df.query('race == \"White\" and year == 2019').shape[0]"
   ]
  },
  {
   "cell_type": "code",
   "execution_count": 58,
   "metadata": {},
   "outputs": [
    {
     "data": {
      "text/plain": [
       "0.06172839506172839"
      ]
     },
     "execution_count": 58,
     "metadata": {},
     "output_type": "execute_result"
    }
   ],
   "source": [
    "25/405"
   ]
  },
  {
   "cell_type": "code",
   "execution_count": 59,
   "metadata": {
    "scrolled": true
   },
   "outputs": [
    {
     "data": {
      "text/plain": [
       "14"
      ]
     },
     "execution_count": 59,
     "metadata": {},
     "output_type": "execute_result"
    }
   ],
   "source": [
    "df.query('race == \"Black\" and year == 2019 and armed == \"unarmed\"').shape[0]"
   ]
  },
  {
   "cell_type": "markdown",
   "metadata": {},
   "source": [
    "## Killings by Gender"
   ]
  },
  {
   "cell_type": "code",
   "execution_count": 60,
   "metadata": {},
   "outputs": [
    {
     "data": {
      "text/plain": [
       "M    5168\n",
       "F     237\n",
       "Name: gender, dtype: int64"
      ]
     },
     "execution_count": 60,
     "metadata": {},
     "output_type": "execute_result"
    }
   ],
   "source": [
    "df.gender.value_counts()"
   ]
  },
  {
   "cell_type": "code",
   "execution_count": 61,
   "metadata": {},
   "outputs": [
    {
     "data": {
      "text/plain": [
       "21.80590717299578"
      ]
     },
     "execution_count": 61,
     "metadata": {},
     "output_type": "execute_result"
    }
   ],
   "source": [
    "5168/237"
   ]
  },
  {
   "cell_type": "code",
   "execution_count": 62,
   "metadata": {
    "scrolled": false
   },
   "outputs": [
    {
     "data": {
      "image/png": "[encoded data removed]",
      "text/plain": [
       "<Figure size 432x288 with 1 Axes>"
      ]
     },
     "metadata": {
      "needs_background": "light"
     },
     "output_type": "display_data"
    }
   ],
   "source": [
    "sns.countplot(data = df, x = 'gender');\n",
    "# plt.title('Number of males and females killed by police between 2015 and June 2020')\n"
   ]
  },
  {
   "cell_type": "markdown",
   "metadata": {},
   "source": [
    "The difference in the rate at which males are being killed is staggering. Since 2015 there have been 5168 killings of males and only 237 killings of females. "
   ]
  },
  {
   "cell_type": "markdown",
   "metadata": {},
   "source": [
    "## Statisitcal observations"
   ]
  },
  {
   "cell_type": "markdown",
   "metadata": {},
   "source": [
    "### Can we predict whether a suspect is mentally ill based on race, gender and whether they were fleeing the scene?"
   ]
  },
  {
   "cell_type": "code",
   "execution_count": 63,
   "metadata": {
    "scrolled": true
   },
   "outputs": [
    {
     "data": {
      "text/html": [
       "<table class=\"simpletable\">\n",
       "<caption>OLS Regression Results</caption>\n",
       "<tr>\n",
       "  <th>Dep. Variable:</th>      <td>mentally_ill</td>   <th>  R-squared:         </th> <td>   0.065</td>\n",
       "</tr>\n",
       "<tr>\n",
       "  <th>Model:</th>                   <td>OLS</td>       <th>  Adj. R-squared:    </th> <td>   0.064</td>\n",
       "</tr>\n",
       "<tr>\n",
       "  <th>Method:</th>             <td>Least Squares</td>  <th>  F-statistic:       </th> <td>   53.94</td>\n",
       "</tr>\n",
       "<tr>\n",
       "  <th>Date:</th>             <td>Sat, 13 Jun 2020</td> <th>  Prob (F-statistic):</th> <td>7.17e-75</td>\n",
       "</tr>\n",
       "<tr>\n",
       "  <th>Time:</th>                 <td>18:57:18</td>     <th>  Log-Likelihood:    </th> <td> -2768.3</td>\n",
       "</tr>\n",
       "<tr>\n",
       "  <th>No. Observations:</th>      <td>  5407</td>      <th>  AIC:               </th> <td>   5553.</td>\n",
       "</tr>\n",
       "<tr>\n",
       "  <th>Df Residuals:</th>          <td>  5399</td>      <th>  BIC:               </th> <td>   5605.</td>\n",
       "</tr>\n",
       "<tr>\n",
       "  <th>Df Model:</th>              <td>     7</td>      <th>                     </th>     <td> </td>   \n",
       "</tr>\n",
       "<tr>\n",
       "  <th>Covariance Type:</th>      <td>nonrobust</td>    <th>                     </th>     <td> </td>   \n",
       "</tr>\n",
       "</table>\n",
       "<table class=\"simpletable\">\n",
       "<tr>\n",
       "         <td></td>            <th>coef</th>     <th>std err</th>      <th>t</th>      <th>P>|t|</th>  <th>[0.025</th>    <th>0.975]</th>  \n",
       "</tr>\n",
       "<tr>\n",
       "  <th>intercept</th>       <td>    0.3390</td> <td>    0.031</td> <td>   10.929</td> <td> 0.000</td> <td>    0.278</td> <td>    0.400</td>\n",
       "</tr>\n",
       "<tr>\n",
       "  <th>Male</th>            <td>   -0.0600</td> <td>    0.027</td> <td>   -2.240</td> <td> 0.025</td> <td>   -0.112</td> <td>   -0.007</td>\n",
       "</tr>\n",
       "<tr>\n",
       "  <th>Black</th>           <td>   -0.0623</td> <td>    0.020</td> <td>   -3.064</td> <td> 0.002</td> <td>   -0.102</td> <td>   -0.022</td>\n",
       "</tr>\n",
       "<tr>\n",
       "  <th>Hispanic</th>        <td>   -0.0339</td> <td>    0.022</td> <td>   -1.569</td> <td> 0.117</td> <td>   -0.076</td> <td>    0.008</td>\n",
       "</tr>\n",
       "<tr>\n",
       "  <th>White</th>           <td>    0.0647</td> <td>    0.019</td> <td>    3.446</td> <td> 0.001</td> <td>    0.028</td> <td>    0.101</td>\n",
       "</tr>\n",
       "<tr>\n",
       "  <th>Asian</th>           <td>    0.0183</td> <td>    0.045</td> <td>    0.406</td> <td> 0.685</td> <td>   -0.070</td> <td>    0.107</td>\n",
       "</tr>\n",
       "<tr>\n",
       "  <th>Native American</th> <td>   -0.0330</td> <td>    0.049</td> <td>   -0.677</td> <td> 0.498</td> <td>   -0.129</td> <td>    0.063</td>\n",
       "</tr>\n",
       "<tr>\n",
       "  <th>Fleeing</th>         <td>   -0.1770</td> <td>    0.011</td> <td>  -15.471</td> <td> 0.000</td> <td>   -0.199</td> <td>   -0.155</td>\n",
       "</tr>\n",
       "</table>\n",
       "<table class=\"simpletable\">\n",
       "<tr>\n",
       "  <th>Omnibus:</th>       <td>831.469</td> <th>  Durbin-Watson:     </th> <td>   1.969</td> \n",
       "</tr>\n",
       "<tr>\n",
       "  <th>Prob(Omnibus):</th> <td> 0.000</td>  <th>  Jarque-Bera (JB):  </th> <td>1247.001</td> \n",
       "</tr>\n",
       "<tr>\n",
       "  <th>Skew:</th>          <td> 1.167</td>  <th>  Prob(JB):          </th> <td>1.65e-271</td>\n",
       "</tr>\n",
       "<tr>\n",
       "  <th>Kurtosis:</th>      <td> 2.704</td>  <th>  Cond. No.          </th> <td>    15.4</td> \n",
       "</tr>\n",
       "</table><br/><br/>Warnings:<br/>[1] Standard Errors assume that the covariance matrix of the errors is correctly specified."
      ],
      "text/plain": [
       "<class 'statsmodels.iolib.summary.Summary'>\n",
       "\"\"\"\n",
       "                            OLS Regression Results                            \n",
       "==============================================================================\n",
       "Dep. Variable:           mentally_ill   R-squared:                       0.065\n",
       "Model:                            OLS   Adj. R-squared:                  0.064\n",
       "Method:                 Least Squares   F-statistic:                     53.94\n",
       "Date:                Sat, 13 Jun 2020   Prob (F-statistic):           7.17e-75\n",
       "Time:                        18:57:18   Log-Likelihood:                -2768.3\n",
       "No. Observations:                5407   AIC:                             5553.\n",
       "Df Residuals:                    5399   BIC:                             5605.\n",
       "Df Model:                           7                                         \n",
       "Covariance Type:            nonrobust                                         \n",
       "===================================================================================\n",
       "                      coef    std err          t      P>|t|      [0.025      0.975]\n",
       "-----------------------------------------------------------------------------------\n",
       "intercept           0.3390      0.031     10.929      0.000       0.278       0.400\n",
       "Male               -0.0600      0.027     -2.240      0.025      -0.112      -0.007\n",
       "Black              -0.0623      0.020     -3.064      0.002      -0.102      -0.022\n",
       "Hispanic           -0.0339      0.022     -1.569      0.117      -0.076       0.008\n",
       "White               0.0647      0.019      3.446      0.001       0.028       0.101\n",
       "Asian               0.0183      0.045      0.406      0.685      -0.070       0.107\n",
       "Native American    -0.0330      0.049     -0.677      0.498      -0.129       0.063\n",
       "Fleeing            -0.1770      0.011    -15.471      0.000      -0.199      -0.155\n",
       "==============================================================================\n",
       "Omnibus:                      831.469   Durbin-Watson:                   1.969\n",
       "Prob(Omnibus):                  0.000   Jarque-Bera (JB):             1247.001\n",
       "Skew:                           1.167   Prob(JB):                    1.65e-271\n",
       "Kurtosis:                       2.704   Cond. No.                         15.4\n",
       "==============================================================================\n",
       "\n",
       "Warnings:\n",
       "[1] Standard Errors assume that the covariance matrix of the errors is correctly specified.\n",
       "\"\"\""
      ]
     },
     "execution_count": 63,
     "metadata": {},
     "output_type": "execute_result"
    }
   ],
   "source": [
    "df_dum['intercept'] = 1\n",
    "\n",
    "lm = sm.OLS(df_dum['mentally_ill'], df_dum[['intercept', 'Male', 'Black', 'Hispanic', 'White', 'Asian', 'Native American', 'Fleeing']])\n",
    "results = lm.fit()\n",
    "            \n",
    "results.summary()"
   ]
  },
  {
   "cell_type": "markdown",
   "metadata": {},
   "source": [
    "The R-squared value is very low which suggests little reliance can be placed on these findings and it may be hard to cast a prediction. This is unsurprising as the mental health data is binary and so there is a lot of room for error. If we had continuous data such as mental health scores we may be able to identidy a stronger trend. \n",
    "\n",
    "The baseline for the analysis is above, represented by the intercept is Race: Other, Gender: female, Fleeing: no.\n",
    "\n"
   ]
  },
  {
   "cell_type": "markdown",
   "metadata": {},
   "source": [
    "Below, I have used logisitc regression to see if we can extract more meaningful information."
   ]
  },
  {
   "cell_type": "code",
   "execution_count": 64,
   "metadata": {
    "scrolled": true
   },
   "outputs": [
    {
     "name": "stdout",
     "output_type": "stream",
     "text": [
      "Optimization terminated successfully.\n",
      "         Current function value: 290.517016\n",
      "         Iterations 6\n"
     ]
    },
    {
     "name": "stderr",
     "output_type": "stream",
     "text": [
      "C:\\Users\\willo\\anaconda3\\lib\\site-packages\\statsmodels\\base\\model.py:548: HessianInversionWarning: Inverting hessian failed, no bse or cov_params available\n",
      "  'available', HessianInversionWarning)\n",
      "C:\\Users\\willo\\anaconda3\\lib\\site-packages\\statsmodels\\base\\model.py:548: HessianInversionWarning: Inverting hessian failed, no bse or cov_params available\n",
      "  'available', HessianInversionWarning)\n",
      "C:\\Users\\willo\\anaconda3\\lib\\site-packages\\statsmodels\\discrete\\discrete_model.py:3409: RuntimeWarning: divide by zero encountered in double_scalars\n",
      "  return 1 - self.llf/self.llnull\n"
     ]
    },
    {
     "data": {
      "text/html": [
       "<table class=\"simpletable\">\n",
       "<caption>Logit Regression Results</caption>\n",
       "<tr>\n",
       "  <th>Dep. Variable:</th>     <td>mentally_ill</td>   <th>  No. Observations:  </th>   <td>  5407</td>   \n",
       "</tr>\n",
       "<tr>\n",
       "  <th>Model:</th>                 <td>Logit</td>      <th>  Df Residuals:      </th>   <td>  5399</td>   \n",
       "</tr>\n",
       "<tr>\n",
       "  <th>Method:</th>                 <td>MLE</td>       <th>  Df Model:          </th>   <td>     7</td>   \n",
       "</tr>\n",
       "<tr>\n",
       "  <th>Date:</th>            <td>Sat, 13 Jun 2020</td> <th>  Pseudo R-squ.:     </th>   <td>   inf</td>   \n",
       "</tr>\n",
       "<tr>\n",
       "  <th>Time:</th>                <td>18:57:18</td>     <th>  Log-Likelihood:    </th> <td>-1.5708e+06</td>\n",
       "</tr>\n",
       "<tr>\n",
       "  <th>converged:</th>             <td>True</td>       <th>  LL-Null:           </th>  <td>  0.0000</td>  \n",
       "</tr>\n",
       "<tr>\n",
       "  <th>Covariance Type:</th>     <td>nonrobust</td>    <th>  LLR p-value:       </th>   <td> 1.000</td>   \n",
       "</tr>\n",
       "</table>\n",
       "<table class=\"simpletable\">\n",
       "<tr>\n",
       "         <td></td>            <th>coef</th>     <th>std err</th>      <th>z</th>      <th>P>|z|</th>  <th>[0.025</th>    <th>0.975]</th>  \n",
       "</tr>\n",
       "<tr>\n",
       "  <th>intercept</th>       <td>   -0.6225</td> <td>    0.178</td> <td>   -3.506</td> <td> 0.000</td> <td>   -0.970</td> <td>   -0.275</td>\n",
       "</tr>\n",
       "<tr>\n",
       "  <th>Male</th>            <td>   -0.3297</td> <td>    0.150</td> <td>   -2.201</td> <td> 0.028</td> <td>   -0.623</td> <td>   -0.036</td>\n",
       "</tr>\n",
       "<tr>\n",
       "  <th>Black</th>           <td>   -0.4591</td> <td>    0.131</td> <td>   -3.494</td> <td> 0.000</td> <td>   -0.717</td> <td>   -0.202</td>\n",
       "</tr>\n",
       "<tr>\n",
       "  <th>Hispanic</th>        <td>   -0.2309</td> <td>    0.137</td> <td>   -1.687</td> <td> 0.092</td> <td>   -0.499</td> <td>    0.037</td>\n",
       "</tr>\n",
       "<tr>\n",
       "  <th>White</th>           <td>    0.3571</td> <td>    0.113</td> <td>    3.159</td> <td> 0.002</td> <td>    0.136</td> <td>    0.579</td>\n",
       "</tr>\n",
       "<tr>\n",
       "  <th>Asian</th>           <td>    0.0996</td> <td>    0.263</td> <td>    0.379</td> <td> 0.704</td> <td>   -0.415</td> <td>    0.614</td>\n",
       "</tr>\n",
       "<tr>\n",
       "  <th>Native American</th> <td>   -0.2224</td> <td>    0.319</td> <td>   -0.698</td> <td> 0.485</td> <td>   -0.847</td> <td>    0.402</td>\n",
       "</tr>\n",
       "<tr>\n",
       "  <th>Fleeing</th>         <td>   -1.2083</td> <td>    0.082</td> <td>  -14.680</td> <td> 0.000</td> <td>   -1.370</td> <td>   -1.047</td>\n",
       "</tr>\n",
       "</table>"
      ],
      "text/plain": [
       "<class 'statsmodels.iolib.summary.Summary'>\n",
       "\"\"\"\n",
       "                           Logit Regression Results                           \n",
       "==============================================================================\n",
       "Dep. Variable:           mentally_ill   No. Observations:                 5407\n",
       "Model:                          Logit   Df Residuals:                     5399\n",
       "Method:                           MLE   Df Model:                            7\n",
       "Date:                Sat, 13 Jun 2020   Pseudo R-squ.:                     inf\n",
       "Time:                        18:57:18   Log-Likelihood:            -1.5708e+06\n",
       "converged:                       True   LL-Null:                        0.0000\n",
       "Covariance Type:            nonrobust   LLR p-value:                     1.000\n",
       "===================================================================================\n",
       "                      coef    std err          z      P>|z|      [0.025      0.975]\n",
       "-----------------------------------------------------------------------------------\n",
       "intercept          -0.6225      0.178     -3.506      0.000      -0.970      -0.275\n",
       "Male               -0.3297      0.150     -2.201      0.028      -0.623      -0.036\n",
       "Black              -0.4591      0.131     -3.494      0.000      -0.717      -0.202\n",
       "Hispanic           -0.2309      0.137     -1.687      0.092      -0.499       0.037\n",
       "White               0.3571      0.113      3.159      0.002       0.136       0.579\n",
       "Asian               0.0996      0.263      0.379      0.704      -0.415       0.614\n",
       "Native American    -0.2224      0.319     -0.698      0.485      -0.847       0.402\n",
       "Fleeing            -1.2083      0.082    -14.680      0.000      -1.370      -1.047\n",
       "===================================================================================\n",
       "\"\"\""
      ]
     },
     "execution_count": 64,
     "metadata": {},
     "output_type": "execute_result"
    }
   ],
   "source": [
    "logm = sm.Logit(df_dum['mentally_ill'], df_dum[['intercept', 'Male', 'Black', 'Hispanic', 'White', 'Asian', 'Native American', 'Fleeing']])\n",
    "results = logm.fit()\n",
    "results.summary()"
   ]
  },
  {
   "cell_type": "code",
   "execution_count": 65,
   "metadata": {},
   "outputs": [
    {
     "data": {
      "text/plain": [
       "(3.3477885716802347, 1.582648959765529, 1.429035869853877)"
      ]
     },
     "execution_count": 65,
     "metadata": {},
     "output_type": "execute_result"
    }
   ],
   "source": [
    "1/np.exp(-1.2083), 1/np.exp(-0.4591), np.exp(0.357)"
   ]
  },
  {
   "cell_type": "code",
   "execution_count": 66,
   "metadata": {},
   "outputs": [],
   "source": [
    "# test the accuracy and precision of the model\n",
    "\n",
    "y = df_dum['mentally_ill']\n",
    "x = df_dum [['intercept', 'Male', 'Black', 'Hispanic', 'White', 'Asian', 'Native American', 'Fleeing']]\n",
    "\n",
    "x_train, x_test, y_train, y_test = train_test_split(x, y, test_size = 0.4, random_state = 0 )"
   ]
  },
  {
   "cell_type": "code",
   "execution_count": 67,
   "metadata": {},
   "outputs": [
    {
     "name": "stdout",
     "output_type": "stream",
     "text": [
      "[[1674    0]\n",
      " [ 489    0]]\n",
      "0.7739251040221914\n",
      "0.0\n",
      "0.0\n"
     ]
    },
    {
     "name": "stderr",
     "output_type": "stream",
     "text": [
      "C:\\Users\\willo\\anaconda3\\lib\\site-packages\\sklearn\\metrics\\_classification.py:1272: UndefinedMetricWarning: Precision is ill-defined and being set to 0.0 due to no predicted samples. Use `zero_division` parameter to control this behavior.\n",
      "  _warn_prf(average, modifier, msg_start, len(result))\n"
     ]
    }
   ],
   "source": [
    "log_mod = LogisticRegression()\n",
    "log_mod.fit(x_train, y_train)\n",
    "preds = log_mod.predict(x_test)\n",
    "print(confusion_matrix(y_test, preds))\n",
    "print(accuracy_score(y_test, preds))\n",
    "print(recall_score(y_test, preds))\n",
    "print(precision_score(y_test, preds))\n"
   ]
  },
  {
   "cell_type": "code",
   "execution_count": 68,
   "metadata": {},
   "outputs": [
    {
     "data": {
      "text/plain": [
       "(0.2867340868530637, 0.22507860181246533)"
      ]
     },
     "execution_count": 68,
     "metadata": {},
     "output_type": "execute_result"
    }
   ],
   "source": [
    "482/1681, df_dum.mentally_ill.sum()/df_dum.shape[0]"
   ]
  },
  {
   "cell_type": "markdown",
   "metadata": {},
   "source": [
    "From the above anlaysis we can see that there were 1681 instnaces where the deceased was correctly predicted to not be mentally ill. There were 482 instances where the model made the same prediction incorrectly. The model never predicted cases of mental illness.\n",
    "\n",
    "With a recall score of 77.8% and nil recall and precision, we can conclude that using these variables the model is unable to predict whether or not an individual is going to be mentally ill. "
   ]
  },
  {
   "cell_type": "markdown",
   "metadata": {},
   "source": [
    "### Police killings by year"
   ]
  },
  {
   "cell_type": "code",
   "execution_count": 69,
   "metadata": {
    "scrolled": true
   },
   "outputs": [
    {
     "data": {
      "image/png": "[encoded data removed]",
      "text/plain": [
       "<Figure size 432x288 with 1 Axes>"
      ]
     },
     "metadata": {
      "needs_background": "light"
     },
     "output_type": "display_data"
    }
   ],
   "source": [
    "base_color = sns.color_palette()[0]\n",
    "sns.countplot(data = df, x = 'year', color = base_color)\n",
    "plt.title('Police killings per year');"
   ]
  },
  {
   "cell_type": "markdown",
   "metadata": {},
   "source": [
    "At the time of writing this report, we are only half way through 2020, hence the unusually low number. We can clearly see from thi chart that the number of police killings do not appear to be changing year on year. "
   ]
  }
 ],
 "metadata": {
  "kernelspec": {
   "display_name": "Python 3",
   "language": "python",
   "name": "python3"
  },
  "language_info": {
   "codemirror_mode": {
    "name": "ipython",
    "version": 3
   },
   "file_extension": ".py",
   "mimetype": "text/x-python",
   "name": "python",
   "nbconvert_exporter": "python",
   "pygments_lexer": "ipython3",
   "version": "3.7.7"
  }
 },
 "nbformat": 4,
 "nbformat_minor": 4
}
